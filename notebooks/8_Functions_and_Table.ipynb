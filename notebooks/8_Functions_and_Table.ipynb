{
 "cells": [
  {
   "cell_type": "code",
   "execution_count": 28,
   "id": "8dcdcf01",
   "metadata": {
    "ExecuteTime": {
     "end_time": "2022-07-08T02:54:50.526707Z",
     "start_time": "2022-07-08T02:54:50.498336Z"
    }
   },
   "outputs": [],
   "source": [
    "from datascience import *\n",
    "import numpy as np\n",
    "%matplotlib inline\n",
    "import matplotlib.pyplot as plots\n",
    "plots.style.use('fivethirtyeight')"
   ]
  },
  {
   "cell_type": "code",
   "execution_count": 29,
   "id": "e084a45a",
   "metadata": {
    "ExecuteTime": {
     "end_time": "2022-07-08T02:54:50.538465Z",
     "start_time": "2022-07-08T02:54:50.528036Z"
    }
   },
   "outputs": [
    {
     "data": {
      "text/html": [
       "<table border=\"1\" class=\"dataframe\">\n",
       "    <thead>\n",
       "        <tr>\n",
       "            <th>Person</th> <th>Age</th>\n",
       "        </tr>\n",
       "    </thead>\n",
       "    <tbody>\n",
       "        <tr>\n",
       "            <td>A     </td> <td>17  </td>\n",
       "        </tr>\n",
       "        <tr>\n",
       "            <td>B     </td> <td>117 </td>\n",
       "        </tr>\n",
       "        <tr>\n",
       "            <td>C     </td> <td>52  </td>\n",
       "        </tr>\n",
       "        <tr>\n",
       "            <td>D     </td> <td>100 </td>\n",
       "        </tr>\n",
       "        <tr>\n",
       "            <td>E     </td> <td>6   </td>\n",
       "        </tr>\n",
       "        <tr>\n",
       "            <td>F     </td> <td>101 </td>\n",
       "        </tr>\n",
       "    </tbody>\n",
       "</table>"
      ],
      "text/plain": [
       "Person | Age\n",
       "A      | 17\n",
       "B      | 117\n",
       "C      | 52\n",
       "D      | 100\n",
       "E      | 6\n",
       "F      | 101"
      ]
     },
     "execution_count": 29,
     "metadata": {},
     "output_type": "execute_result"
    }
   ],
   "source": [
    "ages = Table().with_columns(\n",
    "    'Person', make_array('A', 'B', 'C', 'D', 'E', 'F'),\n",
    "    'Age', make_array(17, 117, 52, 100, 6, 101)\n",
    ")\n",
    "ages"
   ]
  },
  {
   "cell_type": "code",
   "execution_count": 30,
   "id": "6d143a40",
   "metadata": {
    "ExecuteTime": {
     "end_time": "2022-07-08T02:54:50.541279Z",
     "start_time": "2022-07-08T02:54:50.539439Z"
    }
   },
   "outputs": [],
   "source": [
    "def cut_off_at_100(x):\n",
    "    return min(x, 100)"
   ]
  },
  {
   "cell_type": "markdown",
   "id": "b4cf239c",
   "metadata": {},
   "source": [
    "apply Function to Table"
   ]
  },
  {
   "cell_type": "code",
   "execution_count": 31,
   "id": "1586884b",
   "metadata": {
    "ExecuteTime": {
     "end_time": "2022-07-08T02:54:50.560717Z",
     "start_time": "2022-07-08T02:54:50.552095Z"
    }
   },
   "outputs": [
    {
     "data": {
      "text/plain": [
       "array([ 17, 100,  52, 100,   6, 100])"
      ]
     },
     "execution_count": 31,
     "metadata": {},
     "output_type": "execute_result"
    }
   ],
   "source": [
    "ages.apply(cut_off_at_100, \"Age\")"
   ]
  },
  {
   "cell_type": "code",
   "execution_count": 32,
   "id": "9a96932a",
   "metadata": {
    "ExecuteTime": {
     "end_time": "2022-07-08T02:54:50.564841Z",
     "start_time": "2022-07-08T02:54:50.561909Z"
    }
   },
   "outputs": [
    {
     "data": {
      "text/html": [
       "<table border=\"1\" class=\"dataframe\">\n",
       "    <thead>\n",
       "        <tr>\n",
       "            <th>Person</th> <th>Age</th> <th>Cut off ages</th>\n",
       "        </tr>\n",
       "    </thead>\n",
       "    <tbody>\n",
       "        <tr>\n",
       "            <td>A     </td> <td>17  </td> <td>17          </td>\n",
       "        </tr>\n",
       "        <tr>\n",
       "            <td>B     </td> <td>117 </td> <td>100         </td>\n",
       "        </tr>\n",
       "        <tr>\n",
       "            <td>C     </td> <td>52  </td> <td>52          </td>\n",
       "        </tr>\n",
       "        <tr>\n",
       "            <td>D     </td> <td>100 </td> <td>100         </td>\n",
       "        </tr>\n",
       "        <tr>\n",
       "            <td>E     </td> <td>6   </td> <td>6           </td>\n",
       "        </tr>\n",
       "        <tr>\n",
       "            <td>F     </td> <td>101 </td> <td>100         </td>\n",
       "        </tr>\n",
       "    </tbody>\n",
       "</table>"
      ],
      "text/plain": [
       "Person | Age  | Cut off ages\n",
       "A      | 17   | 17\n",
       "B      | 117  | 100\n",
       "C      | 52   | 52\n",
       "D      | 100  | 100\n",
       "E      | 6    | 6\n",
       "F      | 101  | 100"
      ]
     },
     "execution_count": 32,
     "metadata": {},
     "output_type": "execute_result"
    }
   ],
   "source": [
    "ages.with_columns(\"Cut off ages\", ages.apply(cut_off_at_100, \"Age\"))"
   ]
  },
  {
   "cell_type": "markdown",
   "id": "af0d50cb",
   "metadata": {},
   "source": [
    "## Application"
   ]
  },
  {
   "cell_type": "code",
   "execution_count": 33,
   "id": "e753050d",
   "metadata": {
    "ExecuteTime": {
     "end_time": "2022-07-08T02:54:50.664998Z",
     "start_time": "2022-07-08T02:54:50.567343Z"
    }
   },
   "outputs": [
    {
     "data": {
      "text/html": [
       "<table border=\"1\" class=\"dataframe\">\n",
       "    <thead>\n",
       "        <tr>\n",
       "            <th>family</th> <th>father</th> <th>mother</th> <th>children</th> <th>childNum</th> <th>sex</th> <th>childHeight</th>\n",
       "        </tr>\n",
       "    </thead>\n",
       "    <tbody>\n",
       "        <tr>\n",
       "            <td>1     </td> <td>78.5  </td> <td>67    </td> <td>4       </td> <td>1       </td> <td>male  </td> <td>73.2       </td>\n",
       "        </tr>\n",
       "        <tr>\n",
       "            <td>1     </td> <td>78.5  </td> <td>67    </td> <td>4       </td> <td>2       </td> <td>female</td> <td>69.2       </td>\n",
       "        </tr>\n",
       "        <tr>\n",
       "            <td>1     </td> <td>78.5  </td> <td>67    </td> <td>4       </td> <td>3       </td> <td>female</td> <td>69         </td>\n",
       "        </tr>\n",
       "        <tr>\n",
       "            <td>1     </td> <td>78.5  </td> <td>67    </td> <td>4       </td> <td>4       </td> <td>female</td> <td>69         </td>\n",
       "        </tr>\n",
       "        <tr>\n",
       "            <td>2     </td> <td>75.5  </td> <td>66.5  </td> <td>4       </td> <td>1       </td> <td>male  </td> <td>73.5       </td>\n",
       "        </tr>\n",
       "        <tr>\n",
       "            <td>2     </td> <td>75.5  </td> <td>66.5  </td> <td>4       </td> <td>2       </td> <td>male  </td> <td>72.5       </td>\n",
       "        </tr>\n",
       "        <tr>\n",
       "            <td>2     </td> <td>75.5  </td> <td>66.5  </td> <td>4       </td> <td>3       </td> <td>female</td> <td>65.5       </td>\n",
       "        </tr>\n",
       "        <tr>\n",
       "            <td>2     </td> <td>75.5  </td> <td>66.5  </td> <td>4       </td> <td>4       </td> <td>female</td> <td>65.5       </td>\n",
       "        </tr>\n",
       "        <tr>\n",
       "            <td>3     </td> <td>75    </td> <td>64    </td> <td>2       </td> <td>1       </td> <td>male  </td> <td>71         </td>\n",
       "        </tr>\n",
       "        <tr>\n",
       "            <td>3     </td> <td>75    </td> <td>64    </td> <td>2       </td> <td>2       </td> <td>female</td> <td>68         </td>\n",
       "        </tr>\n",
       "    </tbody>\n",
       "</table>\n",
       "<p>... (924 rows omitted)</p>"
      ],
      "text/plain": [
       "family | father | mother | children | childNum | sex    | childHeight\n",
       "1      | 78.5   | 67     | 4        | 1        | male   | 73.2\n",
       "1      | 78.5   | 67     | 4        | 2        | female | 69.2\n",
       "1      | 78.5   | 67     | 4        | 3        | female | 69\n",
       "1      | 78.5   | 67     | 4        | 4        | female | 69\n",
       "2      | 75.5   | 66.5   | 4        | 1        | male   | 73.5\n",
       "2      | 75.5   | 66.5   | 4        | 2        | male   | 72.5\n",
       "2      | 75.5   | 66.5   | 4        | 3        | female | 65.5\n",
       "2      | 75.5   | 66.5   | 4        | 4        | female | 65.5\n",
       "3      | 75     | 64     | 2        | 1        | male   | 71\n",
       "3      | 75     | 64     | 2        | 2        | female | 68\n",
       "... (924 rows omitted)"
      ]
     },
     "execution_count": 33,
     "metadata": {},
     "output_type": "execute_result"
    }
   ],
   "source": [
    "familiy_heights = Table.read_table('../assets/family_heights.csv').drop(3)\n",
    "familiy_heights"
   ]
  },
  {
   "cell_type": "code",
   "execution_count": 34,
   "id": "4e390cd4",
   "metadata": {
    "ExecuteTime": {
     "end_time": "2022-07-08T02:54:50.670171Z",
     "start_time": "2022-07-08T02:54:50.666186Z"
    }
   },
   "outputs": [
    {
     "data": {
      "text/html": [
       "<table border=\"1\" class=\"dataframe\">\n",
       "    <thead>\n",
       "        <tr>\n",
       "            <th>Parent average</th> <th>childHeight</th>\n",
       "        </tr>\n",
       "    </thead>\n",
       "    <tbody>\n",
       "        <tr>\n",
       "            <td>72.75         </td> <td>73.2       </td>\n",
       "        </tr>\n",
       "        <tr>\n",
       "            <td>72.75         </td> <td>69.2       </td>\n",
       "        </tr>\n",
       "        <tr>\n",
       "            <td>72.75         </td> <td>69         </td>\n",
       "        </tr>\n",
       "        <tr>\n",
       "            <td>72.75         </td> <td>69         </td>\n",
       "        </tr>\n",
       "        <tr>\n",
       "            <td>71            </td> <td>73.5       </td>\n",
       "        </tr>\n",
       "        <tr>\n",
       "            <td>71            </td> <td>72.5       </td>\n",
       "        </tr>\n",
       "        <tr>\n",
       "            <td>71            </td> <td>65.5       </td>\n",
       "        </tr>\n",
       "        <tr>\n",
       "            <td>71            </td> <td>65.5       </td>\n",
       "        </tr>\n",
       "        <tr>\n",
       "            <td>69.5          </td> <td>71         </td>\n",
       "        </tr>\n",
       "        <tr>\n",
       "            <td>69.5          </td> <td>68         </td>\n",
       "        </tr>\n",
       "    </tbody>\n",
       "</table>\n",
       "<p>... (924 rows omitted)</p>"
      ],
      "text/plain": [
       "Parent average | childHeight\n",
       "72.75          | 73.2\n",
       "72.75          | 69.2\n",
       "72.75          | 69\n",
       "72.75          | 69\n",
       "71             | 73.5\n",
       "71             | 72.5\n",
       "71             | 65.5\n",
       "71             | 65.5\n",
       "69.5           | 71\n",
       "69.5           | 68\n",
       "... (924 rows omitted)"
      ]
     },
     "execution_count": 34,
     "metadata": {},
     "output_type": "execute_result"
    }
   ],
   "source": [
    "parent_average = (familiy_heights.column(1) + familiy_heights.column(2)) / 2.0\n",
    "heights = Table().with_columns(\"Parent average\", parent_average,\n",
    "                              \"childHeight\", familiy_heights.column(6))\n",
    "heights"
   ]
  },
  {
   "cell_type": "markdown",
   "id": "91b1b67a",
   "metadata": {},
   "source": [
    "如何绘制更加复杂的重叠样式的图表"
   ]
  },
  {
   "cell_type": "code",
   "execution_count": 35,
   "id": "674f3a3e",
   "metadata": {
    "ExecuteTime": {
     "end_time": "2022-07-08T02:54:51.023866Z",
     "start_time": "2022-07-08T02:54:50.670999Z"
    }
   },
   "outputs": [
    {
     "data": {
      "image/png": "[encoded data removed]",
      "text/plain": [
       "<Figure size 360x360 with 1 Axes>"
      ]
     },
     "metadata": {},
     "output_type": "display_data"
    }
   ],
   "source": [
    "# 把所有绘图指令都放在一个cell中\n",
    "heights.scatter(\"Parent average\")\n",
    "plots.plot([67.5, 67.5], [50, 85], color='red', lw=2)\n",
    "plots.plot([68.5, 68.5], [50, 85], color='red', lw=2)\n",
    "plots.scatter(68, 67.2, color='gold', s=40);"
   ]
  },
  {
   "cell_type": "code",
   "execution_count": 36,
   "id": "a4b68a0e",
   "metadata": {
    "ExecuteTime": {
     "end_time": "2022-07-08T02:54:51.032931Z",
     "start_time": "2022-07-08T02:54:51.025334Z"
    }
   },
   "outputs": [
    {
     "data": {
      "text/html": [
       "<table border=\"1\" class=\"dataframe\">\n",
       "    <thead>\n",
       "        <tr>\n",
       "            <th>Parent average</th> <th>childHeight</th>\n",
       "        </tr>\n",
       "    </thead>\n",
       "    <tbody>\n",
       "        <tr>\n",
       "            <td>68            </td> <td>74         </td>\n",
       "        </tr>\n",
       "        <tr>\n",
       "            <td>68            </td> <td>70         </td>\n",
       "        </tr>\n",
       "        <tr>\n",
       "            <td>68            </td> <td>68         </td>\n",
       "        </tr>\n",
       "        <tr>\n",
       "            <td>68            </td> <td>67         </td>\n",
       "        </tr>\n",
       "        <tr>\n",
       "            <td>68            </td> <td>67         </td>\n",
       "        </tr>\n",
       "        <tr>\n",
       "            <td>68            </td> <td>66         </td>\n",
       "        </tr>\n",
       "        <tr>\n",
       "            <td>68            </td> <td>63.5       </td>\n",
       "        </tr>\n",
       "        <tr>\n",
       "            <td>68            </td> <td>63         </td>\n",
       "        </tr>\n",
       "        <tr>\n",
       "            <td>67.5          </td> <td>65         </td>\n",
       "        </tr>\n",
       "        <tr>\n",
       "            <td>68.1          </td> <td>62.7       </td>\n",
       "        </tr>\n",
       "    </tbody>\n",
       "</table>\n",
       "<p>... (175 rows omitted)</p>"
      ],
      "text/plain": [
       "Parent average | childHeight\n",
       "68             | 74\n",
       "68             | 70\n",
       "68             | 68\n",
       "68             | 67\n",
       "68             | 67\n",
       "68             | 66\n",
       "68             | 63.5\n",
       "68             | 63\n",
       "67.5           | 65\n",
       "68.1           | 62.7\n",
       "... (175 rows omitted)"
      ]
     },
     "execution_count": 36,
     "metadata": {},
     "output_type": "execute_result"
    }
   ],
   "source": [
    "close_68 = heights.where(\"Parent average\", are.between(67.5, 68.5))\n",
    "close_68"
   ]
  },
  {
   "cell_type": "code",
   "execution_count": 37,
   "id": "60314b7d",
   "metadata": {
    "ExecuteTime": {
     "end_time": "2022-07-08T02:54:51.037746Z",
     "start_time": "2022-07-08T02:54:51.033858Z"
    }
   },
   "outputs": [
    {
     "data": {
      "text/plain": [
       "67.620000000000005"
      ]
     },
     "execution_count": 37,
     "metadata": {},
     "output_type": "execute_result"
    }
   ],
   "source": [
    "np.average(close_68.column(\"childHeight\"))"
   ]
  },
  {
   "cell_type": "code",
   "execution_count": 45,
   "id": "0c752d42",
   "metadata": {
    "ExecuteTime": {
     "end_time": "2022-07-08T10:01:43.377864Z",
     "start_time": "2022-07-08T10:01:43.372324Z"
    }
   },
   "outputs": [],
   "source": [
    "def predict_child(p_avg):\n",
    "    close_points = heights.where(\"Parent average\", are.between(p_avg - 0.5, p_avg + 0.5))\n",
    "    return np.round(np.average(close_points.column(\"child\")), 1)"
   ]
  },
  {
   "cell_type": "code",
   "execution_count": 39,
   "id": "ea0c47ea",
   "metadata": {
    "ExecuteTime": {
     "end_time": "2022-07-08T02:54:51.044870Z",
     "start_time": "2022-07-08T02:54:51.041722Z"
    }
   },
   "outputs": [
    {
     "data": {
      "text/html": [
       "<table border=\"1\" class=\"dataframe\">\n",
       "    <thead>\n",
       "        <tr>\n",
       "            <th>Parent average</th> <th>child</th>\n",
       "        </tr>\n",
       "    </thead>\n",
       "    <tbody>\n",
       "        <tr>\n",
       "            <td>72.75         </td> <td>73.2 </td>\n",
       "        </tr>\n",
       "        <tr>\n",
       "            <td>72.75         </td> <td>69.2 </td>\n",
       "        </tr>\n",
       "        <tr>\n",
       "            <td>72.75         </td> <td>69   </td>\n",
       "        </tr>\n",
       "        <tr>\n",
       "            <td>72.75         </td> <td>69   </td>\n",
       "        </tr>\n",
       "        <tr>\n",
       "            <td>71            </td> <td>73.5 </td>\n",
       "        </tr>\n",
       "        <tr>\n",
       "            <td>71            </td> <td>72.5 </td>\n",
       "        </tr>\n",
       "        <tr>\n",
       "            <td>71            </td> <td>65.5 </td>\n",
       "        </tr>\n",
       "        <tr>\n",
       "            <td>71            </td> <td>65.5 </td>\n",
       "        </tr>\n",
       "        <tr>\n",
       "            <td>69.5          </td> <td>71   </td>\n",
       "        </tr>\n",
       "        <tr>\n",
       "            <td>69.5          </td> <td>68   </td>\n",
       "        </tr>\n",
       "    </tbody>\n",
       "</table>\n",
       "<p>... (924 rows omitted)</p>"
      ],
      "text/plain": [
       "Parent average | child\n",
       "72.75          | 73.2\n",
       "72.75          | 69.2\n",
       "72.75          | 69\n",
       "72.75          | 69\n",
       "71             | 73.5\n",
       "71             | 72.5\n",
       "71             | 65.5\n",
       "71             | 65.5\n",
       "69.5           | 71\n",
       "69.5           | 68\n",
       "... (924 rows omitted)"
      ]
     },
     "execution_count": 39,
     "metadata": {},
     "output_type": "execute_result"
    }
   ],
   "source": [
    "heights.relabel(\"childHeight\", \"child\")\n",
    "heights"
   ]
  },
  {
   "cell_type": "code",
   "execution_count": 46,
   "id": "a7d392af",
   "metadata": {
    "ExecuteTime": {
     "end_time": "2022-07-08T10:01:49.835234Z",
     "start_time": "2022-07-08T10:01:47.283383Z"
    }
   },
   "outputs": [
    {
     "data": {
      "text/plain": [
       "array([ 70.1,  70.1,  70.1,  70.1,  70.4,  70.4,  70.4,  70.4,  68.5,\n",
       "        68.5,  68.5,  68.5,  68.5,  68.5,  68.5,  66.5,  66.5,  66.5,\n",
       "        66.5,  66.5,  66.5,  70.4,  70.4,  70.4,  70.4,  70.4,  70.4,\n",
       "        70.4,  69.3,  69.3,  69.3,  69.3,  68.7,  67.6,  67.6,  67.6,\n",
       "        67.6,  67.6,  67.6,  67.6,  67.6,  67.5,  68.6,  68.6,  68.6,\n",
       "        68.6,  68.7,  68.7,  68.7,  68. ,  68. ,  68. ,  68. ,  68. ,\n",
       "        68. ,  68. ,  68. ,  68. ,  68.1,  68.1,  68.1,  68.1,  68.1,\n",
       "        68.1,  67.5,  67.5,  67.5,  67.7,  70.4,  70.4,  70.4,  70.4,\n",
       "        70.4,  70.4,  70.4,  70.4,  68.6,  68.6,  68.6,  68.5,  68.5,\n",
       "        68.5,  67.5,  67.5,  67.5,  67.5,  67.5,  67.5,  67.5,  68.1,\n",
       "        67.6,  67.6,  67.5,  67.5,  67.5,  67.5,  67.5,  67.5,  67.5,\n",
       "        67.5,  67.5,  67.5,  67.5,  67.5,  67.5,  67.5,  67.6,  67.6,\n",
       "        67.6,  66.8,  67.1,  67.1,  67.1,  67.1,  67.1,  67.1,  66.8,\n",
       "        66.8,  66.8,  66.8,  66.8,  66.8,  66.8,  66.8,  66.8,  66.8,\n",
       "        66.2,  68.6,  68.6,  68.6,  68.6,  68.6,  68. ,  68. ,  68. ,\n",
       "        68. ,  67.5,  67.5,  67.5,  67.5,  67.5,  67.5,  67.5,  67.5,\n",
       "        67.5,  67.5,  67.5,  67.5,  67.5,  67.5,  67.5,  67.5,  67.5,\n",
       "        68.1,  67.7,  67.7,  67.7,  67.7,  67.7,  67.7,  67.5,  67.5,\n",
       "        67.7,  67.7,  67.6,  67.6,  67.6,  67.5,  67.5,  67.5,  67.5,\n",
       "        67.5,  67.5,  67.5,  67.5,  67.7,  67.7,  67.7,  67.7,  67.5,\n",
       "        67.5,  67.5,  67.6,  67.6,  67.6,  67.6,  67.6,  67.6,  67.6,\n",
       "        67.6,  67.6,  67.1,  67.1,  67.1,  67.1,  67.1,  67.1,  67.1,\n",
       "        66.8,  66.8,  66.8,  66.8,  66.8,  66.8,  66.8,  66.8,  66.8,\n",
       "        66.8,  66.8,  66.8,  66.8,  66.2,  66.2,  66.2,  66.2,  66.2,\n",
       "        66.2,  66.2,  66.2,  66.2,  66.2,  66.5,  66.5,  66.5,  66.5,\n",
       "        66.5,  66.2,  66.2,  66.2,  66.2,  66.2,  66.2,  66.2,  66.1,\n",
       "        65.3,  65.3,  68.5,  68.5,  68.5,  68.5,  68.5,  68.5,  68.5,\n",
       "        68.5,  68.5,  68.5,  68. ,  67.5,  67.5,  67.5,  67.5,  67.5,\n",
       "        67.5,  67.7,  67.7,  67.7,  67.7,  67.7,  67.7,  67.7,  67.7,\n",
       "        67.7,  67.7,  67.7,  67.6,  67.6,  67.6,  67.6,  67.6,  67.6,\n",
       "        67.6,  67.6,  67.6,  67.5,  67.5,  67.5,  67.5,  67.5,  67.5,\n",
       "        67.5,  67.5,  67.5,  67.5,  67.5,  67.5,  67.5,  67.5,  67.5,\n",
       "        67.5,  67.5,  67.5,  67.5,  67.5,  67.5,  67.5,  67.5,  67.5,\n",
       "        67.5,  67.5,  67.5,  67.5,  67.5,  67.5,  67.5,  67.3,  67.3,\n",
       "        67.3,  67.3,  67.3,  67.3,  67.3,  66.8,  66.8,  66.8,  66.8,\n",
       "        66.8,  66.8,  66.8,  66.8,  66.8,  66.8,  66.8,  67.1,  67.1,\n",
       "        67.1,  67.1,  67.1,  67.1,  67.1,  67.1,  67.1,  67.1,  67.1,\n",
       "        67.1,  67.1,  67.5,  66.8,  66.8,  66.8,  66.8,  66.8,  66.8,\n",
       "        66.8,  66.8,  66.8,  66.8,  66.8,  66.8,  66.8,  66.7,  66.7,\n",
       "        66.7,  66.7,  66.7,  66.7,  66.7,  66.7,  66.5,  66.5,  66.5,\n",
       "        66.5,  66.5,  66.5,  66.5,  66.5,  66.5,  66.5,  66.5,  66.5,\n",
       "        66.5,  66.2,  66.2,  66.2,  66.2,  66.2,  66.2,  66.2,  66.2,\n",
       "        66.2,  66.2,  66.2,  66.2,  66.2,  66.2,  66.2,  66.2,  66.2,\n",
       "        66.2,  66.2,  66.2,  66.2,  66.2,  66.2,  66.2,  66.2,  66.2,\n",
       "        66.1,  66.1,  65.8,  65.8,  65.8,  65.8,  65.8,  65.8,  65.2,\n",
       "        65.2,  65.2,  64.9,  64.9,  64.9,  64.9,  64.9,  68.1,  68.1,\n",
       "        68.1,  68.1,  68.1,  68.1,  68.1,  68.1,  68.1,  68.1,  67.6,\n",
       "        67.5,  67.5,  67.5,  67.5,  67.5,  67.5,  67.5,  67.5,  67.5,\n",
       "        67.5,  67.5,  67.6,  67.6,  67.6,  67.6,  67.5,  67.5,  67.5,\n",
       "        67.5,  67.5,  67.5,  67.6,  67.6,  67.6,  67.6,  67.6,  67.6,\n",
       "        67.6,  67.6,  67.6,  67.6,  67.6,  67.6,  67.6,  67.6,  67.6,\n",
       "        67.6,  67.6,  67.6,  67.6,  67.6,  67.6,  67.6,  67.6,  67.6,\n",
       "        67.5,  67.5,  67.5,  67.5,  67.5,  67.5,  67.5,  67.5,  67.5,\n",
       "        66.8,  66.8,  66.8,  66.8,  66.8,  66.8,  66.8,  66.8,  66.8,\n",
       "        66.8,  66.8,  66.8,  66.8,  66.8,  66.5,  66.5,  66.5,  66.5,\n",
       "        66.2,  66.1,  66.1,  66.1,  66.1,  66.1,  66.1,  66.1,  66.1,\n",
       "        66.1,  66.1,  66.2,  66.2,  66.2,  66.2,  66.2,  66.2,  66.2,\n",
       "        66.2,  66.2,  66.2,  66.1,  66.3,  66.3,  66.3,  66.1,  66.1,\n",
       "        66.1,  66.1,  66.1,  66.3,  66.3,  66.3,  66.3,  66.3,  66.3,\n",
       "        66.3,  66.3,  66.3,  66.3,  66.3,  66.3,  66.3,  66.3,  66.3,\n",
       "        66.3,  66.3,  66.3,  66.3,  66.1,  66.1,  66.1,  66.1,  66.2,\n",
       "        66.2,  66.2,  66.2,  66.2,  65.8,  65.8,  65.8,  65.8,  65.8,\n",
       "        65.8,  65.8,  65.8,  65.8,  65.3,  65.3,  65.3,  65.3,  65.3,\n",
       "        65.3,  65.3,  65.7,  68.7,  68.7,  67.6,  67.6,  67.6,  67.5,\n",
       "        67.5,  67.5,  67.5,  67.5,  67.5,  67.5,  67.5,  67.5,  67.5,\n",
       "        67.5,  66.2,  66.2,  66.5,  66.5,  66.5,  66.5,  66.5,  66.5,\n",
       "        66.5,  66.5,  66.5,  66.2,  66.2,  66.2,  66.2,  66.5,  66.5,\n",
       "        66.5,  66.5,  66.5,  66.5,  66.5,  66.5,  66.5,  66.5,  66.5,\n",
       "        66.5,  66.5,  66.5,  66.5,  66.5,  66.1,  66.1,  66.1,  66.1,\n",
       "        66.1,  66.1,  66.1,  66.1,  66.1,  66.1,  66.1,  66.1,  66.1,\n",
       "        66.1,  66.1,  66.1,  66.1,  66.1,  66.1,  66.2,  66.1,  66.1,\n",
       "        66.1,  66.1,  66.1,  66.1,  66.1,  66.1,  66.1,  66.1,  66.1,\n",
       "        66.1,  66.1,  66.1,  66.1,  66.1,  66.1,  66.1,  66.1,  66.1,\n",
       "        66.1,  66.1,  66.1,  66.1,  66.1,  66.1,  66.1,  66.1,  66.1,\n",
       "        66.1,  66.1,  66.1,  66.1,  66.1,  66.1,  66.1,  66.1,  66.1,\n",
       "        66.1,  66.1,  66.1,  66.1,  66.1,  66.1,  66.1,  66.1,  66.1,\n",
       "        66.1,  66.2,  66.1,  66.1,  66.2,  65.3,  65.3,  65.3,  65.3,\n",
       "        65.3,  65.2,  64.9,  64.9,  64.9,  64.9,  64.9,  64.9,  64.9,\n",
       "        64.9,  64.9,  64.9,  64.9,  64.6,  65.1,  65.1,  65.1,  65.1,\n",
       "        65.1,  65.1,  65.1,  65.1,  65.1,  65.1,  66.5,  66.5,  66.5,\n",
       "        66.5,  66.5,  66.5,  66.2,  66.2,  66.2,  66.2,  66.2,  66.2,\n",
       "        66.2,  66.2,  66.1,  66.1,  66.1,  66.1,  66.1,  66.1,  66.2,\n",
       "        66.2,  66.2,  66.2,  66.2,  66.2,  66.2,  66.2,  66.2,  66.1,\n",
       "        66.1,  66.1,  66.2,  66.2,  66.2,  66.2,  66.2,  66.2,  66.2,\n",
       "        66.2,  66.2,  66.2,  66.2,  66.1,  66.1,  66.1,  66.1,  66.2,\n",
       "        66.2,  66.2,  66.2,  66.2,  66.2,  66.2,  66.2,  65.8,  65.8,\n",
       "        65.8,  65.7,  65.7,  65.7,  65.7,  65.7,  64.9,  66.2,  66.2,\n",
       "        66.2,  66.2,  66.2,  66.2,  66.2,  66.2,  66.2,  66.2,  66.2,\n",
       "        66.2,  66.2,  66.2,  66.2,  66.2,  66.2,  66.1,  66.1,  66.1,\n",
       "        66.1,  66.1,  66.1,  66.1,  66.1,  66.1,  66.1,  66.1,  66.3,\n",
       "        66.3,  66.3,  66.3,  66.3,  66.3,  66.3,  66.3,  66.3,  66.3,\n",
       "        66.3,  66.3,  66.3,  65.3,  65.7,  65.7,  65.7,  65.7,  65.7,\n",
       "        65.7,  65.7,  65.7,  65.3,  65.3,  65.3,  65.3,  65.3,  65.3,\n",
       "        65.3,  64.6,  64.4,  64.4,  64.4,  64.4,  64.4,  64. ,  64. ,\n",
       "        64. ,  64. ,  64. ,  64. ,  64. ,  64. ,  64. ,  64. ,  64. ,\n",
       "        64. ,  64. ,  64. ,  64. ,  66.1,  66.1,  66.1,  66.1,  66.1,\n",
       "        66.1,  66.1,  66.1,  66.1,  66.1,  66.1,  66.1,  66.1,  66.1,\n",
       "        65.8,  65.8,  65.8,  65.8,  65.8,  65.8,  65.8,  65.8,  65.8,\n",
       "        66.2,  66.2,  65.8,  65.8,  65.8,  65.8,  65.8,  65.8,  65.3,\n",
       "        65.3,  65.3,  65.3,  65.3,  65.3,  64.9,  64.9,  64.9,  64.9,\n",
       "        64.9,  65.2,  65.2,  65.2,  65.2,  64.2,  64.2,  64.2,  64.2,\n",
       "        64.2,  64.9,  64.9,  64.9,  64.9,  64.9,  64.9,  64.9,  64.9,\n",
       "        64.9,  64.9,  64.9,  64.9,  64.9,  64.9,  65.1,  63. ,  63. ,\n",
       "        64.7,  64.7,  64.9,  64.9,  64.9,  64.2,  64.2])"
      ]
     },
     "execution_count": 46,
     "metadata": {},
     "output_type": "execute_result"
    }
   ],
   "source": [
    "heights.apply(predict_child, \"Parent average\")"
   ]
  },
  {
   "cell_type": "code",
   "execution_count": 48,
   "id": "34ebc81d",
   "metadata": {
    "ExecuteTime": {
     "end_time": "2022-07-08T10:02:23.082498Z",
     "start_time": "2022-07-08T10:02:20.568943Z"
    }
   },
   "outputs": [
    {
     "data": {
      "text/html": [
       "<table border=\"1\" class=\"dataframe\">\n",
       "    <thead>\n",
       "        <tr>\n",
       "            <th>Parent average</th> <th>child</th> <th>Prediction</th>\n",
       "        </tr>\n",
       "    </thead>\n",
       "    <tbody>\n",
       "        <tr>\n",
       "            <td>72.75         </td> <td>73.2 </td> <td>70.1      </td>\n",
       "        </tr>\n",
       "        <tr>\n",
       "            <td>72.75         </td> <td>69.2 </td> <td>70.1      </td>\n",
       "        </tr>\n",
       "        <tr>\n",
       "            <td>72.75         </td> <td>69   </td> <td>70.1      </td>\n",
       "        </tr>\n",
       "        <tr>\n",
       "            <td>72.75         </td> <td>69   </td> <td>70.1      </td>\n",
       "        </tr>\n",
       "        <tr>\n",
       "            <td>71            </td> <td>73.5 </td> <td>70.4      </td>\n",
       "        </tr>\n",
       "        <tr>\n",
       "            <td>71            </td> <td>72.5 </td> <td>70.4      </td>\n",
       "        </tr>\n",
       "        <tr>\n",
       "            <td>71            </td> <td>65.5 </td> <td>70.4      </td>\n",
       "        </tr>\n",
       "        <tr>\n",
       "            <td>71            </td> <td>65.5 </td> <td>70.4      </td>\n",
       "        </tr>\n",
       "        <tr>\n",
       "            <td>69.5          </td> <td>71   </td> <td>68.5      </td>\n",
       "        </tr>\n",
       "        <tr>\n",
       "            <td>69.5          </td> <td>68   </td> <td>68.5      </td>\n",
       "        </tr>\n",
       "    </tbody>\n",
       "</table>\n",
       "<p>... (924 rows omitted)</p>"
      ],
      "text/plain": [
       "Parent average | child | Prediction\n",
       "72.75          | 73.2  | 70.1\n",
       "72.75          | 69.2  | 70.1\n",
       "72.75          | 69    | 70.1\n",
       "72.75          | 69    | 70.1\n",
       "71             | 73.5  | 70.4\n",
       "71             | 72.5  | 70.4\n",
       "71             | 65.5  | 70.4\n",
       "71             | 65.5  | 70.4\n",
       "69.5           | 71    | 68.5\n",
       "69.5           | 68    | 68.5\n",
       "... (924 rows omitted)"
      ]
     },
     "execution_count": 48,
     "metadata": {},
     "output_type": "execute_result"
    }
   ],
   "source": [
    "heights_with_prediction = heights.with_columns(\"Prediction\", heights.apply(predict_child, \"Parent average\"))\n",
    "heights_with_prediction"
   ]
  },
  {
   "cell_type": "code",
   "execution_count": 49,
   "id": "dc6ce4fe",
   "metadata": {
    "ExecuteTime": {
     "end_time": "2022-07-08T10:02:46.359838Z",
     "start_time": "2022-07-08T10:02:46.199915Z"
    }
   },
   "outputs": [
    {
     "data": {
      "image/png": "[encoded data removed]",
      "text/plain": [
       "<Figure size 360x360 with 1 Axes>"
      ]
     },
     "metadata": {},
     "output_type": "display_data"
    }
   ],
   "source": [
    "heights_with_prediction.scatter('Parent average')"
   ]
  },
  {
   "cell_type": "code",
   "execution_count": 51,
   "id": "38780059",
   "metadata": {
    "ExecuteTime": {
     "end_time": "2022-07-08T10:03:51.303922Z",
     "start_time": "2022-07-08T10:03:51.286501Z"
    }
   },
   "outputs": [
    {
     "data": {
      "text/plain": [
       "67.599999999999994"
      ]
     },
     "execution_count": 51,
     "metadata": {},
     "output_type": "execute_result"
    }
   ],
   "source": [
    "predict_child(68)"
   ]
  },
  {
   "cell_type": "code",
   "execution_count": 58,
   "id": "2f0fbfa9",
   "metadata": {
    "ExecuteTime": {
     "end_time": "2022-07-08T10:17:13.183473Z",
     "start_time": "2022-07-08T10:17:13.175947Z"
    }
   },
   "outputs": [
    {
     "data": {
      "text/html": [
       "<table border=\"1\" class=\"dataframe\">\n",
       "    <thead>\n",
       "        <tr>\n",
       "            <th>Flavor</th> <th>Price</th>\n",
       "        </tr>\n",
       "    </thead>\n",
       "    <tbody>\n",
       "        <tr>\n",
       "            <td>strawberry</td> <td>3.55 </td>\n",
       "        </tr>\n",
       "        <tr>\n",
       "            <td>chocolate </td> <td>4.75 </td>\n",
       "        </tr>\n",
       "        <tr>\n",
       "            <td>chocolate </td> <td>6.55 </td>\n",
       "        </tr>\n",
       "        <tr>\n",
       "            <td>strawberry</td> <td>5.25 </td>\n",
       "        </tr>\n",
       "        <tr>\n",
       "            <td>chocolate </td> <td>5.25 </td>\n",
       "        </tr>\n",
       "    </tbody>\n",
       "</table>"
      ],
      "text/plain": [
       "Flavor     | Price\n",
       "strawberry | 3.55\n",
       "chocolate  | 4.75\n",
       "chocolate  | 6.55\n",
       "strawberry | 5.25\n",
       "chocolate  | 5.25"
      ]
     },
     "execution_count": 58,
     "metadata": {},
     "output_type": "execute_result"
    }
   ],
   "source": [
    "cones = Table().with_columns(\n",
    "    'Flavor', make_array('strawberry', 'chocolate', 'chocolate', 'strawberry', 'chocolate'),\n",
    "    'Price', make_array(3.55, 4.75, 6.55, 5.25, 5.25)\n",
    ")\n",
    "cones"
   ]
  },
  {
   "cell_type": "code",
   "execution_count": 59,
   "id": "9f79ab3f",
   "metadata": {
    "ExecuteTime": {
     "end_time": "2022-07-08T10:17:16.353316Z",
     "start_time": "2022-07-08T10:17:16.345986Z"
    }
   },
   "outputs": [
    {
     "data": {
      "text/html": [
       "<table border=\"1\" class=\"dataframe\">\n",
       "    <thead>\n",
       "        <tr>\n",
       "            <th>Flavor</th> <th>count</th>\n",
       "        </tr>\n",
       "    </thead>\n",
       "    <tbody>\n",
       "        <tr>\n",
       "            <td>chocolate </td> <td>3    </td>\n",
       "        </tr>\n",
       "        <tr>\n",
       "            <td>strawberry</td> <td>2    </td>\n",
       "        </tr>\n",
       "    </tbody>\n",
       "</table>"
      ],
      "text/plain": [
       "Flavor     | count\n",
       "chocolate  | 3\n",
       "strawberry | 2"
      ]
     },
     "execution_count": 59,
     "metadata": {},
     "output_type": "execute_result"
    }
   ],
   "source": [
    "cones.group(\"Flavor\")"
   ]
  },
  {
   "cell_type": "code",
   "execution_count": 60,
   "id": "f9ab3ff2",
   "metadata": {
    "ExecuteTime": {
     "end_time": "2022-07-08T10:17:18.532841Z",
     "start_time": "2022-07-08T10:17:18.520796Z"
    }
   },
   "outputs": [
    {
     "data": {
      "text/html": [
       "<table border=\"1\" class=\"dataframe\">\n",
       "    <thead>\n",
       "        <tr>\n",
       "            <th>Flavor</th> <th>Price sum</th>\n",
       "        </tr>\n",
       "    </thead>\n",
       "    <tbody>\n",
       "        <tr>\n",
       "            <td>chocolate </td> <td>16.55    </td>\n",
       "        </tr>\n",
       "        <tr>\n",
       "            <td>strawberry</td> <td>8.8      </td>\n",
       "        </tr>\n",
       "    </tbody>\n",
       "</table>"
      ],
      "text/plain": [
       "Flavor     | Price sum\n",
       "chocolate  | 16.55\n",
       "strawberry | 8.8"
      ]
     },
     "execution_count": 60,
     "metadata": {},
     "output_type": "execute_result"
    }
   ],
   "source": [
    "cones.group(\"Flavor\", sum)"
   ]
  },
  {
   "cell_type": "code",
   "execution_count": 61,
   "id": "550eb813",
   "metadata": {
    "ExecuteTime": {
     "end_time": "2022-07-08T12:25:34.890766Z",
     "start_time": "2022-07-08T12:25:34.879806Z"
    }
   },
   "outputs": [
    {
     "data": {
      "text/html": [
       "<table border=\"1\" class=\"dataframe\">\n",
       "    <thead>\n",
       "        <tr>\n",
       "            <th>Flavor</th> <th>Price</th>\n",
       "        </tr>\n",
       "    </thead>\n",
       "    <tbody>\n",
       "        <tr>\n",
       "            <td>strawberry</td> <td>3.55 </td>\n",
       "        </tr>\n",
       "        <tr>\n",
       "            <td>chocolate </td> <td>4.75 </td>\n",
       "        </tr>\n",
       "        <tr>\n",
       "            <td>chocolate </td> <td>6.55 </td>\n",
       "        </tr>\n",
       "        <tr>\n",
       "            <td>strawberry</td> <td>5.25 </td>\n",
       "        </tr>\n",
       "        <tr>\n",
       "            <td>chocolate </td> <td>5.25 </td>\n",
       "        </tr>\n",
       "    </tbody>\n",
       "</table>"
      ],
      "text/plain": [
       "Flavor     | Price\n",
       "strawberry | 3.55\n",
       "chocolate  | 4.75\n",
       "chocolate  | 6.55\n",
       "strawberry | 5.25\n",
       "chocolate  | 5.25"
      ]
     },
     "execution_count": 61,
     "metadata": {},
     "output_type": "execute_result"
    }
   ],
   "source": [
    "cones"
   ]
  },
  {
   "cell_type": "code",
   "execution_count": 69,
   "id": "66f57f53",
   "metadata": {
    "ExecuteTime": {
     "end_time": "2022-07-08T12:31:43.309382Z",
     "start_time": "2022-07-08T12:31:43.303405Z"
    }
   },
   "outputs": [
    {
     "data": {
      "text/html": [
       "<table border=\"1\" class=\"dataframe\">\n",
       "    <thead>\n",
       "        <tr>\n",
       "            <th>Flavor</th> <th>Array of All the Prices</th> <th>Sum of the Array</th>\n",
       "        </tr>\n",
       "    </thead>\n",
       "    <tbody>\n",
       "        <tr>\n",
       "            <td>chocolate </td> <td>[ 4.75  6.55  5.25]    </td> <td>16.55           </td>\n",
       "        </tr>\n",
       "        <tr>\n",
       "            <td>strawberry</td> <td>[ 3.55  5.25]          </td> <td>8.8             </td>\n",
       "        </tr>\n",
       "    </tbody>\n",
       "</table>"
      ],
      "text/plain": [
       "Flavor     | Array of All the Prices | Sum of the Array\n",
       "chocolate  | [ 4.75  6.55  5.25]     | 16.55\n",
       "strawberry | [ 3.55  5.25]           | 8.8"
      ]
     },
     "execution_count": 69,
     "metadata": {},
     "output_type": "execute_result"
    }
   ],
   "source": [
    "cones_choc = cones.where(\"Flavor\", are.equal_to(\"chocolate\")).column(\"Price\")\n",
    "cones_strawb = cones.where(\"Flavor\", are.equal_to('strawberry')).column(\"Price\")\n",
    "\n",
    "group_cones = Table().with_columns(\"Flavor\", make_array(\"chocolate\", \"strawberry\"),\n",
    "                                  \"Array of All the Prices\", make_array(cones_choc, cones_strawb))\n",
    "price_total = group_cones.with_columns(\"Sum of the Array\", make_array(sum(cones_choc), sum(cones_strawb)))\n",
    "price_total"
   ]
  },
  {
   "cell_type": "markdown",
   "id": "347e21b4",
   "metadata": {},
   "source": [
    "Another example"
   ]
  },
  {
   "cell_type": "code",
   "execution_count": 72,
   "id": "cfa7f0e4",
   "metadata": {
    "ExecuteTime": {
     "end_time": "2022-07-08T12:33:17.433069Z",
     "start_time": "2022-07-08T12:33:17.412745Z"
    }
   },
   "outputs": [
    {
     "data": {
      "text/html": [
       "<table border=\"1\" class=\"dataframe\">\n",
       "    <thead>\n",
       "        <tr>\n",
       "            <th>PLAYER</th> <th>POSITION</th> <th>TEAM</th> <th>SALARY</th>\n",
       "        </tr>\n",
       "    </thead>\n",
       "    <tbody>\n",
       "        <tr>\n",
       "            <td>Paul Millsap    </td> <td>PF      </td> <td>Atlanta Hawks</td> <td>18.6717</td>\n",
       "        </tr>\n",
       "        <tr>\n",
       "            <td>Al Horford      </td> <td>C       </td> <td>Atlanta Hawks</td> <td>12     </td>\n",
       "        </tr>\n",
       "        <tr>\n",
       "            <td>Tiago Splitter  </td> <td>C       </td> <td>Atlanta Hawks</td> <td>9.75625</td>\n",
       "        </tr>\n",
       "        <tr>\n",
       "            <td>Jeff Teague     </td> <td>PG      </td> <td>Atlanta Hawks</td> <td>8      </td>\n",
       "        </tr>\n",
       "        <tr>\n",
       "            <td>Kyle Korver     </td> <td>SG      </td> <td>Atlanta Hawks</td> <td>5.74648</td>\n",
       "        </tr>\n",
       "        <tr>\n",
       "            <td>Thabo Sefolosha </td> <td>SF      </td> <td>Atlanta Hawks</td> <td>4      </td>\n",
       "        </tr>\n",
       "        <tr>\n",
       "            <td>Mike Scott      </td> <td>PF      </td> <td>Atlanta Hawks</td> <td>3.33333</td>\n",
       "        </tr>\n",
       "        <tr>\n",
       "            <td>Kent Bazemore   </td> <td>SF      </td> <td>Atlanta Hawks</td> <td>2      </td>\n",
       "        </tr>\n",
       "        <tr>\n",
       "            <td>Dennis Schroder </td> <td>PG      </td> <td>Atlanta Hawks</td> <td>1.7634 </td>\n",
       "        </tr>\n",
       "        <tr>\n",
       "            <td>Tim Hardaway Jr.</td> <td>SG      </td> <td>Atlanta Hawks</td> <td>1.30452</td>\n",
       "        </tr>\n",
       "    </tbody>\n",
       "</table>\n",
       "<p>... (407 rows omitted)</p>"
      ],
      "text/plain": [
       "PLAYER           | POSITION | TEAM          | SALARY\n",
       "Paul Millsap     | PF       | Atlanta Hawks | 18.6717\n",
       "Al Horford       | C        | Atlanta Hawks | 12\n",
       "Tiago Splitter   | C        | Atlanta Hawks | 9.75625\n",
       "Jeff Teague      | PG       | Atlanta Hawks | 8\n",
       "Kyle Korver      | SG       | Atlanta Hawks | 5.74648\n",
       "Thabo Sefolosha  | SF       | Atlanta Hawks | 4\n",
       "Mike Scott       | PF       | Atlanta Hawks | 3.33333\n",
       "Kent Bazemore    | SF       | Atlanta Hawks | 2\n",
       "Dennis Schroder  | PG       | Atlanta Hawks | 1.7634\n",
       "Tim Hardaway Jr. | SG       | Atlanta Hawks | 1.30452\n",
       "... (407 rows omitted)"
      ]
     },
     "execution_count": 72,
     "metadata": {},
     "output_type": "execute_result"
    }
   ],
   "source": [
    "nba1 = Table.read_table(\"../assets/nba_salaries.csv\")\n",
    "nba1.relabel(\"'15-'16 SALARY\", \"SALARY\")"
   ]
  },
  {
   "cell_type": "markdown",
   "id": "79d9f7cb",
   "metadata": {},
   "source": [
    "### Q1. how much oney did each team pay for its players' salaries?"
   ]
  },
  {
   "cell_type": "code",
   "execution_count": 75,
   "id": "4c2186c4",
   "metadata": {
    "ExecuteTime": {
     "end_time": "2022-07-08T12:45:54.633993Z",
     "start_time": "2022-07-08T12:45:54.624032Z"
    }
   },
   "outputs": [
    {
     "data": {
      "text/html": [
       "<table border=\"1\" class=\"dataframe\">\n",
       "    <thead>\n",
       "        <tr>\n",
       "            <th>TEAM</th> <th>SALARY sum</th>\n",
       "        </tr>\n",
       "    </thead>\n",
       "    <tbody>\n",
       "        <tr>\n",
       "            <td>Atlanta Hawks        </td> <td>69.5731   </td>\n",
       "        </tr>\n",
       "        <tr>\n",
       "            <td>Boston Celtics       </td> <td>50.2855   </td>\n",
       "        </tr>\n",
       "        <tr>\n",
       "            <td>Brooklyn Nets        </td> <td>57.307    </td>\n",
       "        </tr>\n",
       "        <tr>\n",
       "            <td>Charlotte Hornets    </td> <td>84.1024   </td>\n",
       "        </tr>\n",
       "        <tr>\n",
       "            <td>Chicago Bulls        </td> <td>78.8209   </td>\n",
       "        </tr>\n",
       "        <tr>\n",
       "            <td>Cleveland Cavaliers  </td> <td>102.312   </td>\n",
       "        </tr>\n",
       "        <tr>\n",
       "            <td>Dallas Mavericks     </td> <td>65.7626   </td>\n",
       "        </tr>\n",
       "        <tr>\n",
       "            <td>Denver Nuggets       </td> <td>62.4294   </td>\n",
       "        </tr>\n",
       "        <tr>\n",
       "            <td>Detroit Pistons      </td> <td>42.2118   </td>\n",
       "        </tr>\n",
       "        <tr>\n",
       "            <td>Golden State Warriors</td> <td>94.0851   </td>\n",
       "        </tr>\n",
       "    </tbody>\n",
       "</table>\n",
       "<p>... (20 rows omitted)</p>"
      ],
      "text/plain": [
       "TEAM                  | SALARY sum\n",
       "Atlanta Hawks         | 69.5731\n",
       "Boston Celtics        | 50.2855\n",
       "Brooklyn Nets         | 57.307\n",
       "Charlotte Hornets     | 84.1024\n",
       "Chicago Bulls         | 78.8209\n",
       "Cleveland Cavaliers   | 102.312\n",
       "Dallas Mavericks      | 65.7626\n",
       "Denver Nuggets        | 62.4294\n",
       "Detroit Pistons       | 42.2118\n",
       "Golden State Warriors | 94.0851\n",
       "... (20 rows omitted)"
      ]
     },
     "execution_count": 75,
     "metadata": {},
     "output_type": "execute_result"
    }
   ],
   "source": [
    "nba1.select(\"TEAM\", \"SALARY\").group(\"TEAM\",sum)"
   ]
  },
  {
   "cell_type": "markdown",
   "id": "00a30eb3",
   "metadata": {},
   "source": [
    "### how many NBA players were there in each of the five positions?"
   ]
  },
  {
   "cell_type": "code",
   "execution_count": 76,
   "id": "fef609f4",
   "metadata": {
    "ExecuteTime": {
     "end_time": "2022-07-08T12:47:01.208396Z",
     "start_time": "2022-07-08T12:47:01.163932Z"
    }
   },
   "outputs": [
    {
     "data": {
      "text/html": [
       "<table border=\"1\" class=\"dataframe\">\n",
       "    <thead>\n",
       "        <tr>\n",
       "            <th>POSITION</th> <th>count</th>\n",
       "        </tr>\n",
       "    </thead>\n",
       "    <tbody>\n",
       "        <tr>\n",
       "            <td>C       </td> <td>69   </td>\n",
       "        </tr>\n",
       "        <tr>\n",
       "            <td>PF      </td> <td>85   </td>\n",
       "        </tr>\n",
       "        <tr>\n",
       "            <td>PG      </td> <td>85   </td>\n",
       "        </tr>\n",
       "        <tr>\n",
       "            <td>SF      </td> <td>82   </td>\n",
       "        </tr>\n",
       "        <tr>\n",
       "            <td>SG      </td> <td>96   </td>\n",
       "        </tr>\n",
       "    </tbody>\n",
       "</table>"
      ],
      "text/plain": [
       "POSITION | count\n",
       "C        | 69\n",
       "PF       | 85\n",
       "PG       | 85\n",
       "SF       | 82\n",
       "SG       | 96"
      ]
     },
     "execution_count": 76,
     "metadata": {},
     "output_type": "execute_result"
    }
   ],
   "source": [
    "nba1.group(\"POSITION\")"
   ]
  },
  {
   "cell_type": "markdown",
   "id": "ecdd0c14",
   "metadata": {},
   "source": [
    "### What was the average salary of the player at each of the five positions?"
   ]
  },
  {
   "cell_type": "code",
   "execution_count": 85,
   "id": "f4793b9e",
   "metadata": {
    "ExecuteTime": {
     "end_time": "2022-07-08T12:53:48.550573Z",
     "start_time": "2022-07-08T12:53:48.522077Z"
    }
   },
   "outputs": [
    {
     "data": {
      "text/html": [
       "<table border=\"1\" class=\"dataframe\">\n",
       "    <thead>\n",
       "        <tr>\n",
       "            <th>POSITION</th> <th>SALARY mean</th>\n",
       "        </tr>\n",
       "    </thead>\n",
       "    <tbody>\n",
       "        <tr>\n",
       "            <td>C       </td> <td>6.08291    </td>\n",
       "        </tr>\n",
       "        <tr>\n",
       "            <td>PF      </td> <td>4.95134    </td>\n",
       "        </tr>\n",
       "        <tr>\n",
       "            <td>PG      </td> <td>5.16549    </td>\n",
       "        </tr>\n",
       "        <tr>\n",
       "            <td>SF      </td> <td>5.53267    </td>\n",
       "        </tr>\n",
       "        <tr>\n",
       "            <td>SG      </td> <td>3.9882     </td>\n",
       "        </tr>\n",
       "    </tbody>\n",
       "</table>"
      ],
      "text/plain": [
       "POSITION | SALARY mean\n",
       "C        | 6.08291\n",
       "PF       | 4.95134\n",
       "PG       | 5.16549\n",
       "SF       | 5.53267\n",
       "SG       | 3.9882"
      ]
     },
     "execution_count": 85,
     "metadata": {},
     "output_type": "execute_result"
    }
   ],
   "source": [
    "nba_position = nba1.group(\"POSITION\", np.mean)\n",
    "# nba_position.with_columns(\"avereage salary\", )\n",
    "nba_position.select(\"POSITION\", \"SALARY mean\")"
   ]
  },
  {
   "cell_type": "code",
   "execution_count": 86,
   "id": "cd9f4e67",
   "metadata": {
    "ExecuteTime": {
     "end_time": "2022-07-08T12:54:28.788545Z",
     "start_time": "2022-07-08T12:54:28.783473Z"
    }
   },
   "outputs": [
    {
     "data": {
      "text/html": [
       "<table border=\"1\" class=\"dataframe\">\n",
       "    <thead>\n",
       "        <tr>\n",
       "            <th>Flavor</th> <th>Color</th> <th>Price</th>\n",
       "        </tr>\n",
       "    </thead>\n",
       "    <tbody>\n",
       "        <tr>\n",
       "            <td>strawberry</td> <td>pink       </td> <td>3.55 </td>\n",
       "        </tr>\n",
       "        <tr>\n",
       "            <td>chocolate </td> <td>light brown</td> <td>4.75 </td>\n",
       "        </tr>\n",
       "        <tr>\n",
       "            <td>chocolate </td> <td>dark brown </td> <td>5.25 </td>\n",
       "        </tr>\n",
       "        <tr>\n",
       "            <td>strawberry</td> <td>pink       </td> <td>5.25 </td>\n",
       "        </tr>\n",
       "        <tr>\n",
       "            <td>chocolate </td> <td>dark brown </td> <td>5.25 </td>\n",
       "        </tr>\n",
       "        <tr>\n",
       "            <td>bubblegum </td> <td>pink       </td> <td>4.75 </td>\n",
       "        </tr>\n",
       "    </tbody>\n",
       "</table>"
      ],
      "text/plain": [
       "Flavor     | Color       | Price\n",
       "strawberry | pink        | 3.55\n",
       "chocolate  | light brown | 4.75\n",
       "chocolate  | dark brown  | 5.25\n",
       "strawberry | pink        | 5.25\n",
       "chocolate  | dark brown  | 5.25\n",
       "bubblegum  | pink        | 4.75"
      ]
     },
     "execution_count": 86,
     "metadata": {},
     "output_type": "execute_result"
    }
   ],
   "source": [
    "more_cones = Table().with_columns(\n",
    "    'Flavor', make_array('strawberry', 'chocolate', 'chocolate', 'strawberry', 'chocolate', 'bubblegum'),\n",
    "    'Color', make_array('pink', 'light brown', 'dark brown', 'pink', 'dark brown', 'pink'),\n",
    "    'Price', make_array(3.55, 4.75, 5.25, 5.25, 5.25, 4.75)\n",
    ")\n",
    "\n",
    "more_cones"
   ]
  },
  {
   "cell_type": "code",
   "execution_count": 87,
   "id": "479556dd",
   "metadata": {
    "ExecuteTime": {
     "end_time": "2022-07-08T12:54:52.480151Z",
     "start_time": "2022-07-08T12:54:52.472557Z"
    }
   },
   "outputs": [
    {
     "data": {
      "text/html": [
       "<table border=\"1\" class=\"dataframe\">\n",
       "    <thead>\n",
       "        <tr>\n",
       "            <th>Flavor</th> <th>count</th>\n",
       "        </tr>\n",
       "    </thead>\n",
       "    <tbody>\n",
       "        <tr>\n",
       "            <td>bubblegum </td> <td>1    </td>\n",
       "        </tr>\n",
       "        <tr>\n",
       "            <td>chocolate </td> <td>3    </td>\n",
       "        </tr>\n",
       "        <tr>\n",
       "            <td>strawberry</td> <td>2    </td>\n",
       "        </tr>\n",
       "    </tbody>\n",
       "</table>"
      ],
      "text/plain": [
       "Flavor     | count\n",
       "bubblegum  | 1\n",
       "chocolate  | 3\n",
       "strawberry | 2"
      ]
     },
     "execution_count": 87,
     "metadata": {},
     "output_type": "execute_result"
    }
   ],
   "source": [
    "more_cones.group(\"Flavor\")"
   ]
  },
  {
   "cell_type": "code",
   "execution_count": null,
   "id": "f1feca12",
   "metadata": {},
   "outputs": [],
   "source": []
  }
 ],
 "metadata": {
  "kernelspec": {
   "display_name": "Python 3 (ipykernel)",
   "language": "python",
   "name": "python3"
  },
  "language_info": {
   "codemirror_mode": {
    "name": "ipython",
    "version": 3
   },
   "file_extension": ".py",
   "mimetype": "text/x-python",
   "name": "python",
   "nbconvert_exporter": "python",
   "pygments_lexer": "ipython3",
   "version": "3.9.7"
  },
  "toc": {
   "base_numbering": 1,
   "nav_menu": {},
   "number_sections": true,
   "sideBar": true,
   "skip_h1_title": false,
   "title_cell": "Table of Contents",
   "title_sidebar": "Contents",
   "toc_cell": false,
   "toc_position": {},
   "toc_section_display": true,
   "toc_window_display": false
  }
 },
 "nbformat": 4,
 "nbformat_minor": 5
}
