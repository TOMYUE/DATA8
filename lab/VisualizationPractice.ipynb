{
 "cells": [
  {
   "cell_type": "code",
   "execution_count": 9,
   "id": "735cac69",
   "metadata": {
    "ExecuteTime": {
     "end_time": "2022-07-06T02:24:44.879291Z",
     "start_time": "2022-07-06T02:24:44.872173Z"
    }
   },
   "outputs": [],
   "source": [
    "from datascience import *\n",
    "import numpy as np\n",
    "%matplotlib inline\n",
    "import matplotlib.pyplot as plots\n",
    "plots.style.available\n",
    "plots.style.use(\"fivethirtyeight\")"
   ]
  },
  {
   "cell_type": "markdown",
   "id": "ff38f134",
   "metadata": {},
   "source": [
    "## Create a new table for $icecream$"
   ]
  },
  {
   "cell_type": "code",
   "execution_count": 5,
   "id": "d57a00e4",
   "metadata": {
    "ExecuteTime": {
     "end_time": "2022-07-06T02:22:29.712311Z",
     "start_time": "2022-07-06T02:22:29.707711Z"
    }
   },
   "outputs": [],
   "source": [
    "icecream = Table().with_columns(\"Flavor\", make_array(\"Chocolate\", \"Strawberry\", \"Vanilla\"),\n",
    "                             \"Number of Cartons\", make_array(16, 5, 9))"
   ]
  },
  {
   "cell_type": "code",
   "execution_count": 6,
   "id": "b861ff8a",
   "metadata": {
    "ExecuteTime": {
     "end_time": "2022-07-06T02:22:35.911070Z",
     "start_time": "2022-07-06T02:22:35.908176Z"
    }
   },
   "outputs": [
    {
     "data": {
      "text/html": [
       "<table border=\"1\" class=\"dataframe\">\n",
       "    <thead>\n",
       "        <tr>\n",
       "            <th>Flavor</th> <th>Number of Cartons</th>\n",
       "        </tr>\n",
       "    </thead>\n",
       "    <tbody>\n",
       "        <tr>\n",
       "            <td>Chocolate </td> <td>16               </td>\n",
       "        </tr>\n",
       "        <tr>\n",
       "            <td>Strawberry</td> <td>5                </td>\n",
       "        </tr>\n",
       "        <tr>\n",
       "            <td>Vanilla   </td> <td>9                </td>\n",
       "        </tr>\n",
       "    </tbody>\n",
       "</table>"
      ],
      "text/plain": [
       "Flavor     | Number of Cartons\n",
       "Chocolate  | 16\n",
       "Strawberry | 5\n",
       "Vanilla    | 9"
      ]
     },
     "execution_count": 6,
     "metadata": {},
     "output_type": "execute_result"
    }
   ],
   "source": [
    "icecream"
   ]
  },
  {
   "cell_type": "markdown",
   "id": "8eacc93f",
   "metadata": {},
   "source": [
    "## Bar chart"
   ]
  },
  {
   "cell_type": "code",
   "execution_count": 10,
   "id": "1bc77e89",
   "metadata": {
    "ExecuteTime": {
     "end_time": "2022-07-06T02:24:47.534800Z",
     "start_time": "2022-07-06T02:24:47.455487Z"
    }
   },
   "outputs": [
    {
     "data": {
      "image/png": "[encoded data removed]",
      "text/plain": [
       "<Figure size 432x288 with 1 Axes>"
      ]
     },
     "metadata": {},
     "output_type": "display_data"
    }
   ],
   "source": [
    "icecream.barh(\"Flavor\", \"Number of Cartons\")"
   ]
  },
  {
   "cell_type": "code",
   "execution_count": 11,
   "id": "558c04fd",
   "metadata": {
    "ExecuteTime": {
     "end_time": "2022-07-06T02:25:45.498965Z",
     "start_time": "2022-07-06T02:25:45.423858Z"
    }
   },
   "outputs": [
    {
     "data": {
      "image/png": "[encoded data removed]",
      "text/plain": [
       "<Figure size 432x288 with 1 Axes>"
      ]
     },
     "metadata": {},
     "output_type": "display_data"
    }
   ],
   "source": [
    "icecream.sort(1, descending=True).barh(\"Flavor\")"
   ]
  },
  {
   "cell_type": "markdown",
   "id": "f71779df",
   "metadata": {},
   "source": [
    "## Grouping Categorical Data"
   ]
  },
  {
   "cell_type": "code",
   "execution_count": 14,
   "id": "53b96dde",
   "metadata": {
    "ExecuteTime": {
     "end_time": "2022-07-06T02:27:12.113066Z",
     "start_time": "2022-07-06T02:27:12.104992Z"
    }
   },
   "outputs": [
    {
     "data": {
      "text/html": [
       "<table border=\"1\" class=\"dataframe\">\n",
       "    <thead>\n",
       "        <tr>\n",
       "            <th>Title</th> <th>Studio</th> <th>Gross</th> <th>Gross (Adjusted)</th> <th>Year</th>\n",
       "        </tr>\n",
       "    </thead>\n",
       "    <tbody>\n",
       "        <tr>\n",
       "            <td>Gone with the Wind              </td> <td>MGM            </td> <td>198676459</td> <td>1796176700      </td> <td>1939</td>\n",
       "        </tr>\n",
       "        <tr>\n",
       "            <td>Star Wars                       </td> <td>Fox            </td> <td>460998007</td> <td>1583483200      </td> <td>1977</td>\n",
       "        </tr>\n",
       "        <tr>\n",
       "            <td>The Sound of Music              </td> <td>Fox            </td> <td>158671368</td> <td>1266072700      </td> <td>1965</td>\n",
       "        </tr>\n",
       "        <tr>\n",
       "            <td>E.T.: The Extra-Terrestrial     </td> <td>Universal      </td> <td>435110554</td> <td>1261085000      </td> <td>1982</td>\n",
       "        </tr>\n",
       "        <tr>\n",
       "            <td>Titanic                         </td> <td>Paramount      </td> <td>658672302</td> <td>1204368000      </td> <td>1997</td>\n",
       "        </tr>\n",
       "        <tr>\n",
       "            <td>The Ten Commandments            </td> <td>Paramount      </td> <td>65500000 </td> <td>1164590000      </td> <td>1956</td>\n",
       "        </tr>\n",
       "        <tr>\n",
       "            <td>Jaws                            </td> <td>Universal      </td> <td>260000000</td> <td>1138620700      </td> <td>1975</td>\n",
       "        </tr>\n",
       "        <tr>\n",
       "            <td>Doctor Zhivago                  </td> <td>MGM            </td> <td>111721910</td> <td>1103564200      </td> <td>1965</td>\n",
       "        </tr>\n",
       "        <tr>\n",
       "            <td>The Exorcist                    </td> <td>Warner Brothers</td> <td>232906145</td> <td>983226600       </td> <td>1973</td>\n",
       "        </tr>\n",
       "        <tr>\n",
       "            <td>Snow White and the Seven Dwarves</td> <td>Disney         </td> <td>184925486</td> <td>969010000       </td> <td>1937</td>\n",
       "        </tr>\n",
       "    </tbody>\n",
       "</table>\n",
       "<p>... (190 rows omitted)</p>"
      ],
      "text/plain": [
       "Title                            | Studio          | Gross     | Gross (Adjusted) | Year\n",
       "Gone with the Wind               | MGM             | 198676459 | 1796176700       | 1939\n",
       "Star Wars                        | Fox             | 460998007 | 1583483200       | 1977\n",
       "The Sound of Music               | Fox             | 158671368 | 1266072700       | 1965\n",
       "E.T.: The Extra-Terrestrial      | Universal       | 435110554 | 1261085000       | 1982\n",
       "Titanic                          | Paramount       | 658672302 | 1204368000       | 1997\n",
       "The Ten Commandments             | Paramount       | 65500000  | 1164590000       | 1956\n",
       "Jaws                             | Universal       | 260000000 | 1138620700       | 1975\n",
       "Doctor Zhivago                   | MGM             | 111721910 | 1103564200       | 1965\n",
       "The Exorcist                     | Warner Brothers | 232906145 | 983226600        | 1973\n",
       "Snow White and the Seven Dwarves | Disney          | 184925486 | 969010000        | 1937\n",
       "... (190 rows omitted)"
      ]
     },
     "execution_count": 14,
     "metadata": {},
     "output_type": "execute_result"
    }
   ],
   "source": [
    "top = Table.read_table('../assets/top_movies_2017.csv')\n",
    "top"
   ]
  },
  {
   "cell_type": "code",
   "execution_count": 18,
   "id": "9bbc31e9",
   "metadata": {
    "ExecuteTime": {
     "end_time": "2022-07-06T02:29:01.015739Z",
     "start_time": "2022-07-06T02:29:01.008980Z"
    }
   },
   "outputs": [
    {
     "data": {
      "text/html": [
       "<table border=\"1\" class=\"dataframe\">\n",
       "    <thead>\n",
       "        <tr>\n",
       "            <th>Studio</th> <th>count</th>\n",
       "        </tr>\n",
       "    </thead>\n",
       "    <tbody>\n",
       "        <tr>\n",
       "            <td>AVCO       </td> <td>1    </td>\n",
       "        </tr>\n",
       "        <tr>\n",
       "            <td>Buena Vista</td> <td>35   </td>\n",
       "        </tr>\n",
       "        <tr>\n",
       "            <td>Columbia   </td> <td>9    </td>\n",
       "        </tr>\n",
       "        <tr>\n",
       "            <td>Disney     </td> <td>11   </td>\n",
       "        </tr>\n",
       "        <tr>\n",
       "            <td>Dreamworks </td> <td>3    </td>\n",
       "        </tr>\n",
       "        <tr>\n",
       "            <td>Fox        </td> <td>24   </td>\n",
       "        </tr>\n",
       "        <tr>\n",
       "            <td>IFC        </td> <td>1    </td>\n",
       "        </tr>\n",
       "        <tr>\n",
       "            <td>Lionsgate  </td> <td>3    </td>\n",
       "        </tr>\n",
       "        <tr>\n",
       "            <td>MGM        </td> <td>7    </td>\n",
       "        </tr>\n",
       "        <tr>\n",
       "            <td>Metro      </td> <td>1    </td>\n",
       "        </tr>\n",
       "    </tbody>\n",
       "</table>\n",
       "<p>... (13 rows omitted)</p>"
      ],
      "text/plain": [
       "Studio      | count\n",
       "AVCO        | 1\n",
       "Buena Vista | 35\n",
       "Columbia    | 9\n",
       "Disney      | 11\n",
       "Dreamworks  | 3\n",
       "Fox         | 24\n",
       "IFC         | 1\n",
       "Lionsgate   | 3\n",
       "MGM         | 7\n",
       "Metro       | 1\n",
       "... (13 rows omitted)"
      ]
     },
     "execution_count": 18,
     "metadata": {},
     "output_type": "execute_result"
    }
   ],
   "source": [
    "studio_distribution = top.group(1)\n",
    "studio_distribution"
   ]
  },
  {
   "cell_type": "code",
   "execution_count": 19,
   "id": "830ef803",
   "metadata": {
    "ExecuteTime": {
     "end_time": "2022-07-06T02:29:22.697196Z",
     "start_time": "2022-07-06T02:29:22.550263Z"
    }
   },
   "outputs": [
    {
     "data": {
      "image/png": "[encoded data removed]",
      "text/plain": [
       "<Figure size 432x828 with 1 Axes>"
      ]
     },
     "metadata": {},
     "output_type": "display_data"
    }
   ],
   "source": [
    "studio_distribution.sort(1, descending=True).barh(\"Studio\")"
   ]
  },
  {
   "cell_type": "code",
   "execution_count": 21,
   "id": "927a9e39",
   "metadata": {
    "ExecuteTime": {
     "end_time": "2022-07-06T02:48:36.374629Z",
     "start_time": "2022-07-06T02:48:36.366029Z"
    }
   },
   "outputs": [
    {
     "data": {
      "text/html": [
       "<table border=\"1\" class=\"dataframe\">\n",
       "    <thead>\n",
       "        <tr>\n",
       "            <th>Title</th> <th>Studio</th> <th>Gross</th> <th>Gross (Adjusted)</th> <th>Year</th>\n",
       "        </tr>\n",
       "    </thead>\n",
       "    <tbody>\n",
       "        <tr>\n",
       "            <td>Gone with the Wind              </td> <td>MGM            </td> <td>198,676,459</td> <td>1,796,176,700   </td> <td>1939</td>\n",
       "        </tr>\n",
       "        <tr>\n",
       "            <td>Star Wars                       </td> <td>Fox            </td> <td>460,998,007</td> <td>1,583,483,200   </td> <td>1977</td>\n",
       "        </tr>\n",
       "        <tr>\n",
       "            <td>The Sound of Music              </td> <td>Fox            </td> <td>158,671,368</td> <td>1,266,072,700   </td> <td>1965</td>\n",
       "        </tr>\n",
       "        <tr>\n",
       "            <td>E.T.: The Extra-Terrestrial     </td> <td>Universal      </td> <td>435,110,554</td> <td>1,261,085,000   </td> <td>1982</td>\n",
       "        </tr>\n",
       "        <tr>\n",
       "            <td>Titanic                         </td> <td>Paramount      </td> <td>658,672,302</td> <td>1,204,368,000   </td> <td>1997</td>\n",
       "        </tr>\n",
       "        <tr>\n",
       "            <td>The Ten Commandments            </td> <td>Paramount      </td> <td>65,500,000 </td> <td>1,164,590,000   </td> <td>1956</td>\n",
       "        </tr>\n",
       "        <tr>\n",
       "            <td>Jaws                            </td> <td>Universal      </td> <td>260,000,000</td> <td>1,138,620,700   </td> <td>1975</td>\n",
       "        </tr>\n",
       "        <tr>\n",
       "            <td>Doctor Zhivago                  </td> <td>MGM            </td> <td>111,721,910</td> <td>1,103,564,200   </td> <td>1965</td>\n",
       "        </tr>\n",
       "        <tr>\n",
       "            <td>The Exorcist                    </td> <td>Warner Brothers</td> <td>232,906,145</td> <td>983,226,600     </td> <td>1973</td>\n",
       "        </tr>\n",
       "        <tr>\n",
       "            <td>Snow White and the Seven Dwarves</td> <td>Disney         </td> <td>184,925,486</td> <td>969,010,000     </td> <td>1937</td>\n",
       "        </tr>\n",
       "    </tbody>\n",
       "</table>\n",
       "<p>... (190 rows omitted)</p>"
      ],
      "text/plain": [
       "Title                            | Studio          | Gross       | Gross (Adjusted) | Year\n",
       "Gone with the Wind               | MGM             | 198,676,459 | 1,796,176,700    | 1939\n",
       "Star Wars                        | Fox             | 460,998,007 | 1,583,483,200    | 1977\n",
       "The Sound of Music               | Fox             | 158,671,368 | 1,266,072,700    | 1965\n",
       "E.T.: The Extra-Terrestrial      | Universal       | 435,110,554 | 1,261,085,000    | 1982\n",
       "Titanic                          | Paramount       | 658,672,302 | 1,204,368,000    | 1997\n",
       "The Ten Commandments             | Paramount       | 65,500,000  | 1,164,590,000    | 1956\n",
       "Jaws                             | Universal       | 260,000,000 | 1,138,620,700    | 1975\n",
       "Doctor Zhivago                   | MGM             | 111,721,910 | 1,103,564,200    | 1965\n",
       "The Exorcist                     | Warner Brothers | 232,906,145 | 983,226,600      | 1973\n",
       "Snow White and the Seven Dwarves | Disney          | 184,925,486 | 969,010,000      | 1937\n",
       "... (190 rows omitted)"
      ]
     },
     "execution_count": 21,
     "metadata": {},
     "output_type": "execute_result"
    }
   ],
   "source": [
    "top.set_format([2,3], NumberFormatter)"
   ]
  },
  {
   "cell_type": "code",
   "execution_count": 38,
   "id": "4884871b",
   "metadata": {
    "ExecuteTime": {
     "end_time": "2022-07-06T02:56:53.626835Z",
     "start_time": "2022-07-06T02:56:53.623373Z"
    }
   },
   "outputs": [
    {
     "data": {
      "text/html": [
       "<table border=\"1\" class=\"dataframe\">\n",
       "    <thead>\n",
       "        <tr>\n",
       "            <th>Title</th> <th>Adjust Gross</th>\n",
       "        </tr>\n",
       "    </thead>\n",
       "    <tbody>\n",
       "        <tr>\n",
       "            <td>Gone with the Wind              </td> <td>1796.18     </td>\n",
       "        </tr>\n",
       "        <tr>\n",
       "            <td>Star Wars                       </td> <td>1583.48     </td>\n",
       "        </tr>\n",
       "        <tr>\n",
       "            <td>The Sound of Music              </td> <td>1266.07     </td>\n",
       "        </tr>\n",
       "        <tr>\n",
       "            <td>E.T.: The Extra-Terrestrial     </td> <td>1261.08     </td>\n",
       "        </tr>\n",
       "        <tr>\n",
       "            <td>Titanic                         </td> <td>1204.37     </td>\n",
       "        </tr>\n",
       "        <tr>\n",
       "            <td>The Ten Commandments            </td> <td>1164.59     </td>\n",
       "        </tr>\n",
       "        <tr>\n",
       "            <td>Jaws                            </td> <td>1138.62     </td>\n",
       "        </tr>\n",
       "        <tr>\n",
       "            <td>Doctor Zhivago                  </td> <td>1103.56     </td>\n",
       "        </tr>\n",
       "        <tr>\n",
       "            <td>The Exorcist                    </td> <td>983.23      </td>\n",
       "        </tr>\n",
       "        <tr>\n",
       "            <td>Snow White and the Seven Dwarves</td> <td>969.01      </td>\n",
       "        </tr>\n",
       "    </tbody>\n",
       "</table>\n",
       "<p>... (190 rows omitted)</p>"
      ],
      "text/plain": [
       "Title                            | Adjust Gross\n",
       "Gone with the Wind               | 1796.18\n",
       "Star Wars                        | 1583.48\n",
       "The Sound of Music               | 1266.07\n",
       "E.T.: The Extra-Terrestrial      | 1261.08\n",
       "Titanic                          | 1204.37\n",
       "The Ten Commandments             | 1164.59\n",
       "Jaws                             | 1138.62\n",
       "Doctor Zhivago                   | 1103.56\n",
       "The Exorcist                     | 983.23\n",
       "Snow White and the Seven Dwarves | 969.01\n",
       "... (190 rows omitted)"
      ]
     },
     "execution_count": 38,
     "metadata": {},
     "output_type": "execute_result"
    }
   ],
   "source": [
    "millions = top.select(\"Title\", \"Gross (Adjusted)\")\n",
    "millions.relabel(\"Gross (Adjusted)\", \"Adjusted Gross\")\n",
    "approx = np.round(millions.column(1)/1e6, 2)\n",
    "millions = millions.drop(1).with_columns(\"Adjust Gross\", approx)\n",
    "millions"
   ]
  },
  {
   "cell_type": "code",
   "execution_count": 37,
   "id": "98ede4fc",
   "metadata": {
    "ExecuteTime": {
     "end_time": "2022-07-06T02:56:42.919247Z",
     "start_time": "2022-07-06T02:56:42.913116Z"
    }
   },
   "outputs": [
    {
     "data": {
      "text/plain": [
       "(338.41000000000003, 1796.1800000000001)"
      ]
     },
     "execution_count": 37,
     "metadata": {},
     "output_type": "execute_result"
    }
   ],
   "source": [
    "adj_gross = millions.column(\"Adjust Gross\")\n",
    "min(adj_gross), max(adj_gross)"
   ]
  },
  {
   "cell_type": "code",
   "execution_count": 39,
   "id": "859a5edc",
   "metadata": {
    "ExecuteTime": {
     "end_time": "2022-07-06T03:02:40.571762Z",
     "start_time": "2022-07-06T03:02:40.466085Z"
    }
   },
   "outputs": [
    {
     "data": {
      "image/png": "[encoded data removed]",
      "text/plain": [
       "<Figure size 432x288 with 1 Axes>"
      ]
     },
     "metadata": {},
     "output_type": "display_data"
    }
   ],
   "source": [
    "millions.hist(\"Adjust Gross\", unit=\"Million Dollars\")"
   ]
  },
  {
   "cell_type": "code",
   "execution_count": 44,
   "id": "cc48b51a",
   "metadata": {
    "ExecuteTime": {
     "end_time": "2022-07-06T03:23:07.074332Z",
     "start_time": "2022-07-06T03:23:07.061646Z"
    }
   },
   "outputs": [
    {
     "data": {
      "text/html": [
       "<table border=\"1\" class=\"dataframe\">\n",
       "    <thead>\n",
       "        <tr>\n",
       "            <th>Title</th> <th>Adjust Gross</th>\n",
       "        </tr>\n",
       "    </thead>\n",
       "    <tbody>\n",
       "        <tr>\n",
       "            <td>Who Framed Roger Rabbit                                     </td> <td>338.41      </td>\n",
       "        </tr>\n",
       "        <tr>\n",
       "            <td>Suicide Squad                                               </td> <td>339.41      </td>\n",
       "        </tr>\n",
       "        <tr>\n",
       "            <td>The Firm                                                    </td> <td>340.03      </td>\n",
       "        </tr>\n",
       "        <tr>\n",
       "            <td>Batman v Superman: Dawn of Justice                          </td> <td>340.14      </td>\n",
       "        </tr>\n",
       "        <tr>\n",
       "            <td>9 to 5                                                      </td> <td>341.36      </td>\n",
       "        </tr>\n",
       "        <tr>\n",
       "            <td>What's Up, Doc?                                             </td> <td>345.14      </td>\n",
       "        </tr>\n",
       "        <tr>\n",
       "            <td>The Twilight Saga: New Moon                                 </td> <td>345.91      </td>\n",
       "        </tr>\n",
       "        <tr>\n",
       "            <td>Superman II                                                 </td> <td>345.96      </td>\n",
       "        </tr>\n",
       "        <tr>\n",
       "            <td>Signs                                                       </td> <td>348.79      </td>\n",
       "        </tr>\n",
       "        <tr>\n",
       "            <td>Batman Returns                                              </td> <td>348.81      </td>\n",
       "        </tr>\n",
       "        <tr>\n",
       "            <td>Up                                                          </td> <td>349.14      </td>\n",
       "        </tr>\n",
       "        <tr>\n",
       "            <td>Beverly Hills Cop II                                        </td> <td>349.38      </td>\n",
       "        </tr>\n",
       "        <tr>\n",
       "            <td>Iron Man 2                                                  </td> <td>349.38      </td>\n",
       "        </tr>\n",
       "        <tr>\n",
       "            <td>Robin Hood: Prince of Thieves                               </td> <td>349.46      </td>\n",
       "        </tr>\n",
       "        <tr>\n",
       "            <td>Liar Liar                                                   </td> <td>351.36      </td>\n",
       "        </tr>\n",
       "        <tr>\n",
       "            <td>Zootopia                                                    </td> <td>352.1       </td>\n",
       "        </tr>\n",
       "        <tr>\n",
       "            <td>Fatal Attraction                                            </td> <td>352.76      </td>\n",
       "        </tr>\n",
       "        <tr>\n",
       "            <td>Patton                                                      </td> <td>354.16      </td>\n",
       "        </tr>\n",
       "        <tr>\n",
       "            <td>Apollo 13                                                   </td> <td>354.34      </td>\n",
       "        </tr>\n",
       "        <tr>\n",
       "            <td>Rush Hour 2                                                 </td> <td>355.23      </td>\n",
       "        </tr>\n",
       "        <tr>\n",
       "            <td>Mission: Impossible II                                      </td> <td>355.29      </td>\n",
       "        </tr>\n",
       "        <tr>\n",
       "            <td>Funny Girl                                                  </td> <td>355.95      </td>\n",
       "        </tr>\n",
       "        <tr>\n",
       "            <td>Harry Potter and the Prisoner of Azkaban                    </td> <td>357.23      </td>\n",
       "        </tr>\n",
       "        <tr>\n",
       "            <td>Bruce Almighty                                              </td> <td>358         </td>\n",
       "        </tr>\n",
       "        <tr>\n",
       "            <td>Harry Potter and the Half-Blood Prince                      </td> <td>359.79      </td>\n",
       "        </tr>\n",
       "        <tr>\n",
       "            <td>Austin Powers: The Spy Who Shagged Me                       </td> <td>360.57      </td>\n",
       "        </tr>\n",
       "        <tr>\n",
       "            <td>On Golden Pond                                              </td> <td>360.79      </td>\n",
       "        </tr>\n",
       "        <tr>\n",
       "            <td>Saturday Night Fever                                        </td> <td>360.98      </td>\n",
       "        </tr>\n",
       "        <tr>\n",
       "            <td>Minions                                                     </td> <td>361.95      </td>\n",
       "        </tr>\n",
       "        <tr>\n",
       "            <td>The Hunger Games: Mockingjay - Part 1                       </td> <td>362.06      </td>\n",
       "        </tr>\n",
       "        <tr>\n",
       "            <td>Mission: Impossible                                         </td> <td>364.01      </td>\n",
       "        </tr>\n",
       "        <tr>\n",
       "            <td>Furious 7                                                   </td> <td>364.7       </td>\n",
       "        </tr>\n",
       "        <tr>\n",
       "            <td>GUnited Artistsrdians of the Galaxy                         </td> <td>366.07      </td>\n",
       "        </tr>\n",
       "        <tr>\n",
       "            <td>My Big Fat Greek Wedding                                    </td> <td>368.22      </td>\n",
       "        </tr>\n",
       "        <tr>\n",
       "            <td>Three Men and a Baby                                        </td> <td>370.75      </td>\n",
       "        </tr>\n",
       "        <tr>\n",
       "            <td>The Jungle Book (2016)                                      </td> <td>370.81      </td>\n",
       "        </tr>\n",
       "        <tr>\n",
       "            <td>Home Alone 2: Lost in New York                              </td> <td>372.04      </td>\n",
       "        </tr>\n",
       "        <tr>\n",
       "            <td>Cast Away                                                   </td> <td>372.44      </td>\n",
       "        </tr>\n",
       "        <tr>\n",
       "            <td>The Incredibles                                             </td> <td>373.65      </td>\n",
       "        </tr>\n",
       "        <tr>\n",
       "            <td>Alice in Wonderland (2010)                                  </td> <td>373.71      </td>\n",
       "        </tr>\n",
       "        <tr>\n",
       "            <td>Earthquake                                                  </td> <td>374.73      </td>\n",
       "        </tr>\n",
       "        <tr>\n",
       "            <td>Pretty Woman                                                </td> <td>374.95      </td>\n",
       "        </tr>\n",
       "        <tr>\n",
       "            <td>Deadpool                                                    </td> <td>375.98      </td>\n",
       "        </tr>\n",
       "        <tr>\n",
       "            <td>Batman Forever                                              </td> <td>376.1       </td>\n",
       "        </tr>\n",
       "        <tr>\n",
       "            <td>Rambo: First Blood Part II                                  </td> <td>376.67      </td>\n",
       "        </tr>\n",
       "        <tr>\n",
       "            <td>Harry Potter and the Order of the Phoenix                   </td> <td>377.31      </td>\n",
       "        </tr>\n",
       "        <tr>\n",
       "            <td>Rocky III                                                   </td> <td>377.94      </td>\n",
       "        </tr>\n",
       "        <tr>\n",
       "            <td>Psycho                                                      </td> <td>379.31      </td>\n",
       "        </tr>\n",
       "        <tr>\n",
       "            <td>Armageddon                                                  </td> <td>382.1       </td>\n",
       "        </tr>\n",
       "        <tr>\n",
       "            <td>Kramer Vs. Kramer                                           </td> <td>382.45      </td>\n",
       "        </tr>\n",
       "        <tr>\n",
       "            <td>American Sniper                                             </td> <td>382.98      </td>\n",
       "        </tr>\n",
       "        <tr>\n",
       "            <td>Inside Out                                                  </td> <td>383.93      </td>\n",
       "        </tr>\n",
       "        <tr>\n",
       "            <td>Guess Who's Coming to Dinner                                </td> <td>384.55      </td>\n",
       "        </tr>\n",
       "        <tr>\n",
       "            <td>The Secret Life of Pets                                     </td> <td>384.7       </td>\n",
       "        </tr>\n",
       "        <tr>\n",
       "            <td>Rain Man                                                    </td> <td>384.86      </td>\n",
       "        </tr>\n",
       "        <tr>\n",
       "            <td>2001: A Space Odyssey                                       </td> <td>385.26      </td>\n",
       "        </tr>\n",
       "        <tr>\n",
       "            <td>An Officer and a Gentleman                                  </td> <td>388.11      </td>\n",
       "        </tr>\n",
       "        <tr>\n",
       "            <td>Dances with Wolves                                          </td> <td>388.49      </td>\n",
       "        </tr>\n",
       "        <tr>\n",
       "            <td>Guardians of the Galaxy Vol. 2                              </td> <td>389.4       </td>\n",
       "        </tr>\n",
       "        <tr>\n",
       "            <td>Toy Story                                                   </td> <td>389.99      </td>\n",
       "        </tr>\n",
       "        <tr>\n",
       "            <td>Indiana Jones and the Kingdom of the Crystal Skull          </td> <td>392.62      </td>\n",
       "        </tr>\n",
       "        <tr>\n",
       "            <td>Meet the Fockers                                            </td> <td>392.7       </td>\n",
       "        </tr>\n",
       "        <tr>\n",
       "            <td>Transformers: Dark of the Moon                              </td> <td>393.48      </td>\n",
       "        </tr>\n",
       "        <tr>\n",
       "            <td>Iron Man                                                    </td> <td>394.23      </td>\n",
       "        </tr>\n",
       "        <tr>\n",
       "            <td>The Caine Mutiny                                            </td> <td>394.61      </td>\n",
       "        </tr>\n",
       "        <tr>\n",
       "            <td>The Fugitive                                                </td> <td>394.69      </td>\n",
       "        </tr>\n",
       "        <tr>\n",
       "            <td>Harry Potter and the Chamber of Secrets                     </td> <td>399.3       </td>\n",
       "        </tr>\n",
       "        <tr>\n",
       "            <td>Pirates of the Caribbean: At World's End                    </td> <td>399.82      </td>\n",
       "        </tr>\n",
       "        <tr>\n",
       "            <td>Harry Potter and the Goblet of Fire                         </td> <td>401.61      </td>\n",
       "        </tr>\n",
       "        <tr>\n",
       "            <td>The Chronicles of Narnia: The Lion, the Witch and the Wa ...</td> <td>401.62      </td>\n",
       "        </tr>\n",
       "        <tr>\n",
       "            <td>Beauty and the Beast                                        </td> <td>403.28      </td>\n",
       "        </tr>\n",
       "        <tr>\n",
       "            <td>Gremlins                                                    </td> <td>404.34      </td>\n",
       "        </tr>\n",
       "        <tr>\n",
       "            <td>Peter Pan                                                   </td> <td>405.59      </td>\n",
       "        </tr>\n",
       "        <tr>\n",
       "            <td>Young Frankenstein                                          </td> <td>405.8       </td>\n",
       "        </tr>\n",
       "        <tr>\n",
       "            <td>Wonder Woman                                                </td> <td>406.38      </td>\n",
       "        </tr>\n",
       "        <tr>\n",
       "            <td>Saving Private Ryan                                         </td> <td>406.69      </td>\n",
       "        </tr>\n",
       "        <tr>\n",
       "            <td>The Four Horsemen of the Apocalypse                         </td> <td>408.21      </td>\n",
       "        </tr>\n",
       "        <tr>\n",
       "            <td>Crocodile Dundee                                            </td> <td>410.74      </td>\n",
       "        </tr>\n",
       "        <tr>\n",
       "            <td>Transformers                                                </td> <td>412.51      </td>\n",
       "        </tr>\n",
       "        <tr>\n",
       "            <td>The Matrix Reloaded                                         </td> <td>415.13      </td>\n",
       "        </tr>\n",
       "        <tr>\n",
       "            <td>Captain America: Civil War                                  </td> <td>415.65      </td>\n",
       "        </tr>\n",
       "        <tr>\n",
       "            <td>Despicable Me 2                                             </td> <td>416.89      </td>\n",
       "        </tr>\n",
       "        <tr>\n",
       "            <td>Shrek the Third                                             </td> <td>417         </td>\n",
       "        </tr>\n",
       "        <tr>\n",
       "            <td>Shrek                                                       </td> <td>420.41      </td>\n",
       "        </tr>\n",
       "        <tr>\n",
       "            <td>Toy Story 2                                                 </td> <td>425.27      </td>\n",
       "        </tr>\n",
       "        <tr>\n",
       "            <td>Harry Potter and the Deathly Hallows Part 2                 </td> <td>426.63      </td>\n",
       "        </tr>\n",
       "        <tr>\n",
       "            <td>Top Gun                                                     </td> <td>426.99      </td>\n",
       "        </tr>\n",
       "        <tr>\n",
       "            <td>How the Grinch Stole Christmas                              </td> <td>427.67      </td>\n",
       "        </tr>\n",
       "        <tr>\n",
       "            <td>Sergeant York                                               </td> <td>427.82      </td>\n",
       "        </tr>\n",
       "        <tr>\n",
       "            <td>Terminator 2: Judgment Day                                  </td> <td>433.1       </td>\n",
       "        </tr>\n",
       "        <tr>\n",
       "            <td>Iron Man 3                                                  </td> <td>433.91      </td>\n",
       "        </tr>\n",
       "        <tr>\n",
       "            <td>Spider-Man 3                                                </td> <td>434.85      </td>\n",
       "        </tr>\n",
       "        <tr>\n",
       "            <td>Frozen                                                      </td> <td>435.97      </td>\n",
       "        </tr>\n",
       "        <tr>\n",
       "            <td>Monsters, Inc.                                              </td> <td>438.75      </td>\n",
       "        </tr>\n",
       "        <tr>\n",
       "            <td>Indiana Jones and the Last Crusade                          </td> <td>439.31      </td>\n",
       "        </tr>\n",
       "        <tr>\n",
       "            <td>The Lost World: Jurassic Park                               </td> <td>443.7       </td>\n",
       "        </tr>\n",
       "        <tr>\n",
       "            <td>Rear Window                                                 </td> <td>447.65      </td>\n",
       "        </tr>\n",
       "        <tr>\n",
       "            <td>House of Wax                                                </td> <td>449.23      </td>\n",
       "        </tr>\n",
       "        <tr>\n",
       "            <td>Pirates of the Caribbean: The Curse of the Black Pearl      </td> <td>450.27      </td>\n",
       "        </tr>\n",
       "        <tr>\n",
       "            <td>The Hunger Games                                            </td> <td>452.17      </td>\n",
       "        </tr>\n",
       "        <tr>\n",
       "            <td>Duel in the Sun                                             </td> <td>453.57      </td>\n",
       "        </tr>\n",
       "        <tr>\n",
       "            <td>The Hunger Games: Catching Fire                             </td> <td>454.41      </td>\n",
       "        </tr>\n",
       "        <tr>\n",
       "            <td>Ghost                                                       </td> <td>457.53      </td>\n",
       "        </tr>\n",
       "        <tr>\n",
       "            <td>Toy Story 3                                                 </td> <td>464.07      </td>\n",
       "        </tr>\n",
       "        <tr>\n",
       "            <td>Aladdin                                                     </td> <td>466.21      </td>\n",
       "        </tr>\n",
       "        <tr>\n",
       "            <td>Mrs. Doubtfire                                              </td> <td>468.36      </td>\n",
       "        </tr>\n",
       "        <tr>\n",
       "            <td>Star Wars: Episode II - Attack of the Clones                </td> <td>475.33      </td>\n",
       "        </tr>\n",
       "        <tr>\n",
       "            <td>Avengers: Age of Ultron                                     </td> <td>475.85      </td>\n",
       "        </tr>\n",
       "        <tr>\n",
       "            <td>Indiana Jones and the Temple of Doom                        </td> <td>475.91      </td>\n",
       "        </tr>\n",
       "        <tr>\n",
       "            <td>M.A.S.H.                                                    </td> <td>477.25      </td>\n",
       "        </tr>\n",
       "        <tr>\n",
       "            <td>One Flew Over the Cuckoo's Nest                             </td> <td>477.26      </td>\n",
       "        </tr>\n",
       "        <tr>\n",
       "            <td>Swiss Family Robinson                                       </td> <td>478.35      </td>\n",
       "        </tr>\n",
       "        <tr>\n",
       "            <td>It's a Mad, Mad, Mad, Mad World                             </td> <td>478.95      </td>\n",
       "        </tr>\n",
       "        <tr>\n",
       "            <td>Transformers: Revenge of the Fallen                         </td> <td>479.18      </td>\n",
       "        </tr>\n",
       "        <tr>\n",
       "            <td>The Bridge on the River Kwai                                </td> <td>483.62      </td>\n",
       "        </tr>\n",
       "        <tr>\n",
       "            <td>Men in Black                                                </td> <td>485.54      </td>\n",
       "        </tr>\n",
       "        <tr>\n",
       "            <td>Twister                                                     </td> <td>486.18      </td>\n",
       "        </tr>\n",
       "        <tr>\n",
       "            <td>The Lord of the Rings: The Fellowship of the Ring           </td> <td>487.17      </td>\n",
       "        </tr>\n",
       "        <tr>\n",
       "            <td>The Poseidon Adventure                                      </td> <td>488.08      </td>\n",
       "        </tr>\n",
       "        <tr>\n",
       "            <td>The Best Years of Our Lives                                 </td> <td>488.95      </td>\n",
       "        </tr>\n",
       "        <tr>\n",
       "            <td>Rocky                                                       </td> <td>489.31      </td>\n",
       "        </tr>\n",
       "        <tr>\n",
       "            <td>The Rocky Horror Picture Show                               </td> <td>489.57      </td>\n",
       "        </tr>\n",
       "        <tr>\n",
       "            <td>Lawrence of Arabia                                          </td> <td>492.36      </td>\n",
       "        </tr>\n",
       "        <tr>\n",
       "            <td>Close Encounters of the Third Kind                          </td> <td>494.07      </td>\n",
       "        </tr>\n",
       "        <tr>\n",
       "            <td>Lady and the Tramp                                          </td> <td>495.48      </td>\n",
       "        </tr>\n",
       "        <tr>\n",
       "            <td>Harry Potter and the Sorcerer's Stone                       </td> <td>497.07      </td>\n",
       "        </tr>\n",
       "        <tr>\n",
       "            <td>West Side Story                                             </td> <td>497.58      </td>\n",
       "        </tr>\n",
       "        <tr>\n",
       "            <td>Finding Dory                                                </td> <td>499.25      </td>\n",
       "        </tr>\n",
       "        <tr>\n",
       "            <td>Beauty and the Beast (2017)                                 </td> <td>504.01      </td>\n",
       "        </tr>\n",
       "        <tr>\n",
       "            <td>Smokey and the Bandit                                       </td> <td>505.24      </td>\n",
       "        </tr>\n",
       "        <tr>\n",
       "            <td>Tootsie                                                     </td> <td>505.88      </td>\n",
       "        </tr>\n",
       "        <tr>\n",
       "            <td>Superman                                                    </td> <td>509.91      </td>\n",
       "        </tr>\n",
       "        <tr>\n",
       "            <td>The Sixth Sense                                             </td> <td>511.88      </td>\n",
       "        </tr>\n",
       "        <tr>\n",
       "            <td>The Dark Knight Rises                                       </td> <td>511.9       </td>\n",
       "        </tr>\n",
       "        <tr>\n",
       "            <td>The Lord of the Rings: The Two Towers                       </td> <td>513.18      </td>\n",
       "        </tr>\n",
       "        <tr>\n",
       "            <td>Back to the Future                                          </td> <td>524.96      </td>\n",
       "        </tr>\n",
       "        <tr>\n",
       "            <td>Star Wars: Episode III - Revenge of the Sith                </td> <td>527.4       </td>\n",
       "        </tr>\n",
       "        <tr>\n",
       "            <td>The Passion of the Christ                                   </td> <td>530.78      </td>\n",
       "        </tr>\n",
       "        <tr>\n",
       "            <td>National Lampoon's Animal House                             </td> <td>532.42      </td>\n",
       "        </tr>\n",
       "        <tr>\n",
       "            <td>The Greatest Showman on Earth                               </td> <td>533.4       </td>\n",
       "        </tr>\n",
       "        <tr>\n",
       "            <td>My Fair Lady                                                </td> <td>533.4       </td>\n",
       "        </tr>\n",
       "        <tr>\n",
       "            <td>Spider-Man 2                                                </td> <td>534.81      </td>\n",
       "        </tr>\n",
       "        <tr>\n",
       "            <td>Cinderella (1950)                                           </td> <td>536.08      </td>\n",
       "        </tr>\n",
       "        <tr>\n",
       "            <td>Rogue One: A Star Wars Story                                </td> <td>537.33      </td>\n",
       "        </tr>\n",
       "        <tr>\n",
       "            <td>The Towering Inferno                                        </td> <td>545.63      </td>\n",
       "        </tr>\n",
       "        <tr>\n",
       "            <td>Finding Nemo                                                </td> <td>547.5       </td>\n",
       "        </tr>\n",
       "        <tr>\n",
       "            <td>The Lord of the Rings: The Return of the King               </td> <td>547.98      </td>\n",
       "        </tr>\n",
       "        <tr>\n",
       "            <td>The Bells of St. Mary's                                     </td> <td>557.8       </td>\n",
       "        </tr>\n",
       "        <tr>\n",
       "            <td>Batman                                                      </td> <td>559.67      </td>\n",
       "        </tr>\n",
       "        <tr>\n",
       "            <td>Blazing Saddles                                             </td> <td>562.2       </td>\n",
       "        </tr>\n",
       "        <tr>\n",
       "            <td>Bambi                                                       </td> <td>566.4       </td>\n",
       "        </tr>\n",
       "        <tr>\n",
       "            <td>Around the World in 80 Days                                 </td> <td>574.43      </td>\n",
       "        </tr>\n",
       "        <tr>\n",
       "            <td>Pirates of the Caribbean: Dead Man's Chest                  </td> <td>574.55      </td>\n",
       "        </tr>\n",
       "        <tr>\n",
       "            <td>The Robe                                                    </td> <td>581.89      </td>\n",
       "        </tr>\n",
       "        <tr>\n",
       "            <td>American Graffiti                                           </td> <td>584.2       </td>\n",
       "        </tr>\n",
       "        <tr>\n",
       "            <td>Airport                                                     </td> <td>587.73      </td>\n",
       "        </tr>\n",
       "        <tr>\n",
       "            <td>Goldfinger                                                  </td> <td>589.41      </td>\n",
       "        </tr>\n",
       "        <tr>\n",
       "            <td>Beverly Hills Cop                                           </td> <td>596.96      </td>\n",
       "        </tr>\n",
       "        <tr>\n",
       "            <td>Cleopatra (1963)                                            </td> <td>597.26      </td>\n",
       "        </tr>\n",
       "        <tr>\n",
       "            <td>Pinocchio                                                   </td> <td>599.22      </td>\n",
       "        </tr>\n",
       "        <tr>\n",
       "            <td>Home Alone                                                  </td> <td>602.16      </td>\n",
       "        </tr>\n",
       "        <tr>\n",
       "            <td>Independence Day                                            </td> <td>615.8       </td>\n",
       "        </tr>\n",
       "        <tr>\n",
       "            <td>Spider-Man                                                  </td> <td>617.72      </td>\n",
       "        </tr>\n",
       "        <tr>\n",
       "            <td>Love Story                                                  </td> <td>622.28      </td>\n",
       "        </tr>\n",
       "        <tr>\n",
       "            <td>Butch Cassidy and the Sundance Kid                          </td> <td>627.26      </td>\n",
       "        </tr>\n",
       "        <tr>\n",
       "            <td>Shrek 2                                                     </td> <td>631.64      </td>\n",
       "        </tr>\n",
       "        <tr>\n",
       "            <td>Ghostbusters                                                </td> <td>632.73      </td>\n",
       "        </tr>\n",
       "        <tr>\n",
       "            <td>Sleeping Beauty                                             </td> <td>646.09      </td>\n",
       "        </tr>\n",
       "        <tr>\n",
       "            <td>The Jungle Book                                             </td> <td>655.01      </td>\n",
       "        </tr>\n",
       "        <tr>\n",
       "            <td>The Dark Knight                                             </td> <td>661.98      </td>\n",
       "        </tr>\n",
       "        <tr>\n",
       "            <td>Thunderball                                                 </td> <td>664.97      </td>\n",
       "        </tr>\n",
       "        <tr>\n",
       "            <td>Marvel's The Avengers                                       </td> <td>683.47      </td>\n",
       "        </tr>\n",
       "        <tr>\n",
       "            <td>Grease                                                      </td> <td>684.26      </td>\n",
       "        </tr>\n",
       "        <tr>\n",
       "            <td>Mary Poppins                                                </td> <td>695.04      </td>\n",
       "        </tr>\n",
       "        <tr>\n",
       "            <td>Forrest Gump                                                </td> <td>698.88      </td>\n",
       "        </tr>\n",
       "        <tr>\n",
       "            <td>The Godfather                                               </td> <td>701.62      </td>\n",
       "        </tr>\n",
       "        <tr>\n",
       "            <td>Jurassic World                                              </td> <td>702.75      </td>\n",
       "        </tr>\n",
       "        <tr>\n",
       "            <td>Fantasia                                                    </td> <td>738.26      </td>\n",
       "        </tr>\n",
       "        <tr>\n",
       "            <td>The Graduate                                                </td> <td>760.78      </td>\n",
       "        </tr>\n",
       "        <tr>\n",
       "            <td>Raiders of the Lost Ark                                     </td> <td>787         </td>\n",
       "        </tr>\n",
       "        <tr>\n",
       "            <td>The Sting                                                   </td> <td>792.48      </td>\n",
       "        </tr>\n",
       "        <tr>\n",
       "            <td>The Lion King                                               </td> <td>792.51      </td>\n",
       "        </tr>\n",
       "        <tr>\n",
       "            <td>Star Wars: Episode I - The Phantom Menace                   </td> <td>802.87      </td>\n",
       "        </tr>\n",
       "        <tr>\n",
       "            <td>Jurassic Park                                               </td> <td>817.19      </td>\n",
       "        </tr>\n",
       "        <tr>\n",
       "            <td>Return of the Jedi                                          </td> <td>836.19      </td>\n",
       "        </tr>\n",
       "        <tr>\n",
       "            <td>Avatar                                                      </td> <td>865.08      </td>\n",
       "        </tr>\n",
       "        <tr>\n",
       "            <td>Ben-Hur                                                     </td> <td>871.22      </td>\n",
       "        </tr>\n",
       "        <tr>\n",
       "            <td>The Empire Strikes Back                                     </td> <td>872.83      </td>\n",
       "        </tr>\n",
       "        <tr>\n",
       "            <td>101 Dalmatians                                              </td> <td>888.26      </td>\n",
       "        </tr>\n",
       "        <tr>\n",
       "            <td>Star Wars: The Force Awakens                                </td> <td>961.14      </td>\n",
       "        </tr>\n",
       "        <tr>\n",
       "            <td>Snow White and the Seven Dwarves                            </td> <td>969.01      </td>\n",
       "        </tr>\n",
       "        <tr>\n",
       "            <td>The Exorcist                                                </td> <td>983.23      </td>\n",
       "        </tr>\n",
       "        <tr>\n",
       "            <td>Doctor Zhivago                                              </td> <td>1103.56     </td>\n",
       "        </tr>\n",
       "        <tr>\n",
       "            <td>Jaws                                                        </td> <td>1138.62     </td>\n",
       "        </tr>\n",
       "        <tr>\n",
       "            <td>The Ten Commandments                                        </td> <td>1164.59     </td>\n",
       "        </tr>\n",
       "        <tr>\n",
       "            <td>Titanic                                                     </td> <td>1204.37     </td>\n",
       "        </tr>\n",
       "        <tr>\n",
       "            <td>E.T.: The Extra-Terrestrial                                 </td> <td>1261.08     </td>\n",
       "        </tr>\n",
       "        <tr>\n",
       "            <td>The Sound of Music                                          </td> <td>1266.07     </td>\n",
       "        </tr>\n",
       "        <tr>\n",
       "            <td>Star Wars                                                   </td> <td>1583.48     </td>\n",
       "        </tr>\n",
       "        <tr>\n",
       "            <td>Gone with the Wind                                          </td> <td>1796.18     </td>\n",
       "        </tr>\n",
       "    </tbody>\n",
       "</table>"
      ],
      "text/plain": [
       "<IPython.core.display.HTML object>"
      ]
     },
     "metadata": {},
     "output_type": "display_data"
    }
   ],
   "source": [
    "millions.sort('Adjust Gross').show()"
   ]
  },
  {
   "cell_type": "code",
   "execution_count": 43,
   "id": "63a4d8f2",
   "metadata": {
    "ExecuteTime": {
     "end_time": "2022-07-06T03:22:38.814400Z",
     "start_time": "2022-07-06T03:22:38.805029Z"
    }
   },
   "outputs": [
    {
     "data": {
      "text/html": [
       "<table border=\"1\" class=\"dataframe\">\n",
       "    <thead>\n",
       "        <tr>\n",
       "            <th>bin</th> <th>Adjust Gross count</th>\n",
       "        </tr>\n",
       "    </thead>\n",
       "    <tbody>\n",
       "        <tr>\n",
       "            <td>2000</td> <td>0                 </td>\n",
       "        </tr>\n",
       "        <tr>\n",
       "            <td>1900</td> <td>0                 </td>\n",
       "        </tr>\n",
       "        <tr>\n",
       "            <td>1800</td> <td>0                 </td>\n",
       "        </tr>\n",
       "        <tr>\n",
       "            <td>1700</td> <td>1                 </td>\n",
       "        </tr>\n",
       "        <tr>\n",
       "            <td>1600</td> <td>0                 </td>\n",
       "        </tr>\n",
       "        <tr>\n",
       "            <td>1500</td> <td>1                 </td>\n",
       "        </tr>\n",
       "        <tr>\n",
       "            <td>1400</td> <td>0                 </td>\n",
       "        </tr>\n",
       "        <tr>\n",
       "            <td>1300</td> <td>0                 </td>\n",
       "        </tr>\n",
       "        <tr>\n",
       "            <td>1200</td> <td>3                 </td>\n",
       "        </tr>\n",
       "        <tr>\n",
       "            <td>1100</td> <td>3                 </td>\n",
       "        </tr>\n",
       "        <tr>\n",
       "            <td>1000</td> <td>0                 </td>\n",
       "        </tr>\n",
       "        <tr>\n",
       "            <td>900 </td> <td>3                 </td>\n",
       "        </tr>\n",
       "        <tr>\n",
       "            <td>800 </td> <td>7                 </td>\n",
       "        </tr>\n",
       "        <tr>\n",
       "            <td>700 </td> <td>7                 </td>\n",
       "        </tr>\n",
       "        <tr>\n",
       "            <td>600 </td> <td>15                </td>\n",
       "        </tr>\n",
       "        <tr>\n",
       "            <td>500 </td> <td>32                </td>\n",
       "        </tr>\n",
       "        <tr>\n",
       "            <td>400 </td> <td>60                </td>\n",
       "        </tr>\n",
       "        <tr>\n",
       "            <td>300 </td> <td>68                </td>\n",
       "        </tr>\n",
       "    </tbody>\n",
       "</table>"
      ],
      "text/plain": [
       "<IPython.core.display.HTML object>"
      ]
     },
     "metadata": {},
     "output_type": "display_data"
    }
   ],
   "source": [
    "bin_counts = millions.bin(\"Adjust Gross\", bins = np.arange(300, 2001, 100))\n",
    "bin_counts.sort('bin', descending=True).show()"
   ]
  },
  {
   "cell_type": "code",
   "execution_count": null,
   "id": "f42562ea",
   "metadata": {},
   "outputs": [],
   "source": [
    "millions.hist()"
   ]
  },
  {
   "cell_type": "code",
   "execution_count": 46,
   "id": "e17b8415",
   "metadata": {
    "ExecuteTime": {
     "end_time": "2022-07-06T03:28:29.384840Z",
     "start_time": "2022-07-06T03:28:29.276775Z"
    }
   },
   "outputs": [
    {
     "data": {
      "image/png": "[encoded data removed]",
      "text/plain": [
       "<Figure size 432x288 with 1 Axes>"
      ]
     },
     "metadata": {},
     "output_type": "display_data"
    }
   ],
   "source": [
    "millions.hist('Adjust Gross', bins=np.arange(300,2001,100), unit=\"Million Dollars\")"
   ]
  },
  {
   "cell_type": "markdown",
   "id": "d16f064a",
   "metadata": {},
   "source": [
    "> but we found that the bar height is not that kind of clear to see,\n",
    "> the gap bwtween the topest and the lowest is far to large"
   ]
  },
  {
   "cell_type": "markdown",
   "id": "07dfa00a",
   "metadata": {},
   "source": [
    "## Area Principle and Gerneral Principles to help bin charts more suitable to see"
   ]
  },
  {
   "cell_type": "markdown",
   "id": "129ca4ed",
   "metadata": {},
   "source": [
    "- The bins are drawn to scale and are contiguous (though some might be empty), because the values on the horizontal axis are numerical and therefore have fixed positions on the number line.\n",
    "\n",
    "- The area of each bar is proportional to the number of entries in the bin."
   ]
  },
  {
   "cell_type": "markdown",
   "id": "73bcdbf8",
   "metadata": {
    "ExecuteTime": {
     "end_time": "2022-07-06T03:31:07.236135Z",
     "start_time": "2022-07-06T03:31:07.191204Z"
    }
   },
   "source": [
    "$area \\ of \\ bar = percent \\ of \\ entries \\ in \\ bin \\\\$ \n",
    "$area \\ of \\ bar = height\\ of \\ bar  \\times \\ width \\ of \\ bin\\ \\\\ $\n",
    "\n",
    "$ height \\ of \\ bar = \\frac{area \\ of \\ bar}{width \\ of \\ bin} = \\frac{percent \\ of \\ entries \\ in \\ bin}{width \\ of \\ bin\\}$"
   ]
  },
  {
   "cell_type": "markdown",
   "id": "de06820d",
   "metadata": {},
   "source": [
    "$-change\\ begin$"
   ]
  },
  {
   "cell_type": "code",
   "execution_count": 48,
   "id": "d972d245",
   "metadata": {
    "ExecuteTime": {
     "end_time": "2022-07-06T03:36:18.499823Z",
     "start_time": "2022-07-06T03:36:18.491607Z"
    }
   },
   "outputs": [
    {
     "data": {
      "text/html": [
       "<table border=\"1\" class=\"dataframe\">\n",
       "    <thead>\n",
       "        <tr>\n",
       "            <th>bin</th> <th>Adjust Gross count</th>\n",
       "        </tr>\n",
       "    </thead>\n",
       "    <tbody>\n",
       "        <tr>\n",
       "            <td>300 </td> <td>68                </td>\n",
       "        </tr>\n",
       "        <tr>\n",
       "            <td>400 </td> <td>60                </td>\n",
       "        </tr>\n",
       "        <tr>\n",
       "            <td>500 </td> <td>32                </td>\n",
       "        </tr>\n",
       "    </tbody>\n",
       "</table>\n",
       "<p>... (15 rows omitted)</p>"
      ],
      "text/plain": [
       "<IPython.core.display.HTML object>"
      ]
     },
     "metadata": {},
     "output_type": "display_data"
    }
   ],
   "source": [
    "bin_counts.show(3)"
   ]
  },
  {
   "cell_type": "markdown",
   "id": "c3a51b06",
   "metadata": {},
   "source": [
    "[300, 400) bin contains 68,\n",
    "$p = \\frac{68}{200} = 34%$"
   ]
  },
  {
   "cell_type": "markdown",
   "id": "6033a752",
   "metadata": {},
   "source": [
    "the width of the [300, 400) bin is 400-300 = 100.\n",
    "So:\n",
    "$Height = \\frac{34}{100} = 0.34$"
   ]
  },
  {
   "cell_type": "code",
   "execution_count": 49,
   "id": "7c116d8d",
   "metadata": {
    "ExecuteTime": {
     "end_time": "2022-07-06T03:49:48.698301Z",
     "start_time": "2022-07-06T03:49:48.590790Z"
    }
   },
   "outputs": [
    {
     "data": {
      "image/png": "[encoded data removed]",
      "text/plain": [
       "<Figure size 432x288 with 1 Axes>"
      ]
     },
     "metadata": {},
     "output_type": "display_data"
    }
   ],
   "source": [
    "uneven = make_array(300, 350, 400, 500, 1800)\n",
    "millions.hist(\"Adjust Gross\", bins = uneven, unit=\"Million Dollars\")"
   ]
  },
  {
   "cell_type": "code",
   "execution_count": 52,
   "id": "98406def",
   "metadata": {
    "ExecuteTime": {
     "end_time": "2022-07-06T03:50:35.432011Z",
     "start_time": "2022-07-06T03:50:35.428398Z"
    }
   },
   "outputs": [
    {
     "data": {
      "text/html": [
       "<table border=\"1\" class=\"dataframe\">\n",
       "    <thead>\n",
       "        <tr>\n",
       "            <th>bin</th> <th>Adjust Gross count</th>\n",
       "        </tr>\n",
       "    </thead>\n",
       "    <tbody>\n",
       "        <tr>\n",
       "            <td>300 </td> <td>14                </td>\n",
       "        </tr>\n",
       "        <tr>\n",
       "            <td>350 </td> <td>54                </td>\n",
       "        </tr>\n",
       "        <tr>\n",
       "            <td>400 </td> <td>60                </td>\n",
       "        </tr>\n",
       "        <tr>\n",
       "            <td>500 </td> <td>72                </td>\n",
       "        </tr>\n",
       "        <tr>\n",
       "            <td>1800</td> <td>0                 </td>\n",
       "        </tr>\n",
       "    </tbody>\n",
       "</table>"
      ],
      "text/plain": [
       "bin  | Adjust Gross count\n",
       "300  | 14\n",
       "350  | 54\n",
       "400  | 60\n",
       "500  | 72\n",
       "1800 | 0"
      ]
     },
     "execution_count": 52,
     "metadata": {},
     "output_type": "execute_result"
    }
   ],
   "source": [
    "millions.bin(\"Adjust Gross\", bins=uneven)"
   ]
  },
  {
   "cell_type": "code",
   "execution_count": 57,
   "id": "e0ec3cf0",
   "metadata": {
    "ExecuteTime": {
     "end_time": "2022-07-06T03:55:21.581570Z",
     "start_time": "2022-07-06T03:55:21.473237Z"
    }
   },
   "outputs": [
    {
     "data": {
      "image/png": "[encoded data removed]",
      "text/plain": [
       "<Figure size 432x288 with 1 Axes>"
      ]
     },
     "metadata": {},
     "output_type": "display_data"
    }
   ],
   "source": [
    "millions.hist('Adjust Gross', bins=uneven, normed=False)"
   ]
  },
  {
   "cell_type": "code",
   "execution_count": 59,
   "id": "3113c86d",
   "metadata": {
    "ExecuteTime": {
     "end_time": "2022-07-06T03:55:30.215586Z",
     "start_time": "2022-07-06T03:55:30.119703Z"
    }
   },
   "outputs": [
    {
     "data": {
      "image/png": "[encoded data removed]",
      "text/plain": [
       "<Figure size 432x288 with 1 Axes>"
      ]
     },
     "metadata": {},
     "output_type": "display_data"
    }
   ],
   "source": [
    "some_tiny_bins = make_array(\n",
    "    300, 350, 400, 410, 420, 430, 440, 450, 460, 470, 480, 490, 500, 1800)\n",
    "millions.hist('Adjust Gross', bins=some_tiny_bins, unit='Million Dollars')"
   ]
  },
  {
   "cell_type": "code",
   "execution_count": null,
   "id": "51b1f67c",
   "metadata": {},
   "outputs": [],
   "source": [
    "millions.hist()"
   ]
  }
 ],
 "metadata": {
  "kernelspec": {
   "display_name": "Python 3 (ipykernel)",
   "language": "python",
   "name": "python3"
  },
  "language_info": {
   "codemirror_mode": {
    "name": "ipython",
    "version": 3
   },
   "file_extension": ".py",
   "mimetype": "text/x-python",
   "name": "python",
   "nbconvert_exporter": "python",
   "pygments_lexer": "ipython3",
   "version": "3.9.7"
  },
  "toc": {
   "base_numbering": 1,
   "nav_menu": {},
   "number_sections": true,
   "sideBar": true,
   "skip_h1_title": false,
   "title_cell": "Table of Contents",
   "title_sidebar": "Contents",
   "toc_cell": false,
   "toc_position": {},
   "toc_section_display": true,
   "toc_window_display": false
  }
 },
 "nbformat": 4,
 "nbformat_minor": 5
}
